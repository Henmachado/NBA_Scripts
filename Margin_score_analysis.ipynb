{
 "cells": [
  {
   "cell_type": "markdown",
   "metadata": {},
   "source": [
    "# Quando comemorar uma vantagem em uma partida da NBA?"
   ]
  },
  {
   "cell_type": "markdown",
   "metadata": {},
   "source": [
    "Para tentar responder isso vamos usar uma [API client](https://github.com/swar/nba_api) bem interessante que organizou todos os endpoints da NBA Stats"
   ]
  },
  {
   "cell_type": "markdown",
   "metadata": {},
   "source": [
    "O primeiro passo é usar o endpoint __teams__ para acharmos o ID do time que queremos analisar"
   ]
  },
  {
   "cell_type": "code",
   "execution_count": 173,
   "metadata": {},
   "outputs": [],
   "source": [
    "from nba_api.stats.static import teams\n",
    "\n",
    "nba_teams = teams.get_teams()\n",
    "\n",
    "team = [team for team in nba_teams if team['abbreviation'] == 'MIA'][0]\n",
    "time_id = team['id']"
   ]
  },
  {
   "cell_type": "markdown",
   "metadata": {},
   "source": [
    "Com o ID do time, podemos utilizar outro endpoint chamado __leaguegamefinder__ para puxarmos todos os dados dos jogos "
   ]
  },
  {
   "cell_type": "code",
   "execution_count": 174,
   "metadata": {},
   "outputs": [
    {
     "data": {
      "text/html": [
       "<div>\n",
       "<style scoped>\n",
       "    .dataframe tbody tr th:only-of-type {\n",
       "        vertical-align: middle;\n",
       "    }\n",
       "\n",
       "    .dataframe tbody tr th {\n",
       "        vertical-align: top;\n",
       "    }\n",
       "\n",
       "    .dataframe thead th {\n",
       "        text-align: right;\n",
       "    }\n",
       "</style>\n",
       "<table border=\"1\" class=\"dataframe\">\n",
       "  <thead>\n",
       "    <tr style=\"text-align: right;\">\n",
       "      <th></th>\n",
       "      <th>SEASON_ID</th>\n",
       "      <th>TEAM_ID</th>\n",
       "      <th>TEAM_ABBREVIATION</th>\n",
       "      <th>TEAM_NAME</th>\n",
       "      <th>GAME_ID</th>\n",
       "      <th>GAME_DATE</th>\n",
       "      <th>MATCHUP</th>\n",
       "      <th>WL</th>\n",
       "      <th>MIN</th>\n",
       "      <th>PTS</th>\n",
       "      <th>...</th>\n",
       "      <th>FT_PCT</th>\n",
       "      <th>OREB</th>\n",
       "      <th>DREB</th>\n",
       "      <th>REB</th>\n",
       "      <th>AST</th>\n",
       "      <th>STL</th>\n",
       "      <th>BLK</th>\n",
       "      <th>TOV</th>\n",
       "      <th>PF</th>\n",
       "      <th>PLUS_MINUS</th>\n",
       "    </tr>\n",
       "  </thead>\n",
       "  <tbody>\n",
       "    <tr>\n",
       "      <th>0</th>\n",
       "      <td>42019</td>\n",
       "      <td>1610612748</td>\n",
       "      <td>MIA</td>\n",
       "      <td>Miami Heat</td>\n",
       "      <td>0041900304</td>\n",
       "      <td>2020-09-23</td>\n",
       "      <td>MIA vs. BOS</td>\n",
       "      <td>W</td>\n",
       "      <td>240</td>\n",
       "      <td>112</td>\n",
       "      <td>...</td>\n",
       "      <td>0.889</td>\n",
       "      <td>10</td>\n",
       "      <td>30</td>\n",
       "      <td>40</td>\n",
       "      <td>20</td>\n",
       "      <td>9</td>\n",
       "      <td>2</td>\n",
       "      <td>8</td>\n",
       "      <td>20</td>\n",
       "      <td>1.2</td>\n",
       "    </tr>\n",
       "    <tr>\n",
       "      <th>1</th>\n",
       "      <td>42019</td>\n",
       "      <td>1610612748</td>\n",
       "      <td>MIA</td>\n",
       "      <td>Miami Heat</td>\n",
       "      <td>0041900303</td>\n",
       "      <td>2020-09-19</td>\n",
       "      <td>MIA vs. BOS</td>\n",
       "      <td>L</td>\n",
       "      <td>239</td>\n",
       "      <td>106</td>\n",
       "      <td>...</td>\n",
       "      <td>0.824</td>\n",
       "      <td>12</td>\n",
       "      <td>30</td>\n",
       "      <td>42</td>\n",
       "      <td>21</td>\n",
       "      <td>5</td>\n",
       "      <td>8</td>\n",
       "      <td>13</td>\n",
       "      <td>24</td>\n",
       "      <td>-11.0</td>\n",
       "    </tr>\n",
       "    <tr>\n",
       "      <th>2</th>\n",
       "      <td>42019</td>\n",
       "      <td>1610612748</td>\n",
       "      <td>MIA</td>\n",
       "      <td>Miami Heat</td>\n",
       "      <td>0041900302</td>\n",
       "      <td>2020-09-17</td>\n",
       "      <td>MIA @ BOS</td>\n",
       "      <td>W</td>\n",
       "      <td>238</td>\n",
       "      <td>106</td>\n",
       "      <td>...</td>\n",
       "      <td>0.857</td>\n",
       "      <td>11</td>\n",
       "      <td>27</td>\n",
       "      <td>38</td>\n",
       "      <td>27</td>\n",
       "      <td>11</td>\n",
       "      <td>2</td>\n",
       "      <td>9</td>\n",
       "      <td>19</td>\n",
       "      <td>5.0</td>\n",
       "    </tr>\n",
       "    <tr>\n",
       "      <th>3</th>\n",
       "      <td>42019</td>\n",
       "      <td>1610612748</td>\n",
       "      <td>MIA</td>\n",
       "      <td>Miami Heat</td>\n",
       "      <td>0041900301</td>\n",
       "      <td>2020-09-15</td>\n",
       "      <td>MIA @ BOS</td>\n",
       "      <td>W</td>\n",
       "      <td>265</td>\n",
       "      <td>117</td>\n",
       "      <td>...</td>\n",
       "      <td>0.750</td>\n",
       "      <td>7</td>\n",
       "      <td>34</td>\n",
       "      <td>41</td>\n",
       "      <td>32</td>\n",
       "      <td>6</td>\n",
       "      <td>6</td>\n",
       "      <td>12</td>\n",
       "      <td>23</td>\n",
       "      <td>3.0</td>\n",
       "    </tr>\n",
       "    <tr>\n",
       "      <th>4</th>\n",
       "      <td>42019</td>\n",
       "      <td>1610612748</td>\n",
       "      <td>MIA</td>\n",
       "      <td>Miami Heat</td>\n",
       "      <td>0041900205</td>\n",
       "      <td>2020-09-08</td>\n",
       "      <td>MIA @ MIL</td>\n",
       "      <td>W</td>\n",
       "      <td>241</td>\n",
       "      <td>103</td>\n",
       "      <td>...</td>\n",
       "      <td>0.917</td>\n",
       "      <td>5</td>\n",
       "      <td>43</td>\n",
       "      <td>48</td>\n",
       "      <td>21</td>\n",
       "      <td>6</td>\n",
       "      <td>7</td>\n",
       "      <td>21</td>\n",
       "      <td>21</td>\n",
       "      <td>9.0</td>\n",
       "    </tr>\n",
       "    <tr>\n",
       "      <th>5</th>\n",
       "      <td>42019</td>\n",
       "      <td>1610612748</td>\n",
       "      <td>MIA</td>\n",
       "      <td>Miami Heat</td>\n",
       "      <td>0041900204</td>\n",
       "      <td>2020-09-06</td>\n",
       "      <td>MIA vs. MIL</td>\n",
       "      <td>L</td>\n",
       "      <td>266</td>\n",
       "      <td>115</td>\n",
       "      <td>...</td>\n",
       "      <td>0.900</td>\n",
       "      <td>6</td>\n",
       "      <td>35</td>\n",
       "      <td>41</td>\n",
       "      <td>33</td>\n",
       "      <td>8</td>\n",
       "      <td>1</td>\n",
       "      <td>15</td>\n",
       "      <td>18</td>\n",
       "      <td>-3.0</td>\n",
       "    </tr>\n",
       "    <tr>\n",
       "      <th>6</th>\n",
       "      <td>42019</td>\n",
       "      <td>1610612748</td>\n",
       "      <td>MIA</td>\n",
       "      <td>Miami Heat</td>\n",
       "      <td>0041900203</td>\n",
       "      <td>2020-09-04</td>\n",
       "      <td>MIA vs. MIL</td>\n",
       "      <td>W</td>\n",
       "      <td>240</td>\n",
       "      <td>115</td>\n",
       "      <td>...</td>\n",
       "      <td>0.794</td>\n",
       "      <td>9</td>\n",
       "      <td>40</td>\n",
       "      <td>49</td>\n",
       "      <td>27</td>\n",
       "      <td>3</td>\n",
       "      <td>6</td>\n",
       "      <td>11</td>\n",
       "      <td>19</td>\n",
       "      <td>15.0</td>\n",
       "    </tr>\n",
       "    <tr>\n",
       "      <th>7</th>\n",
       "      <td>42019</td>\n",
       "      <td>1610612748</td>\n",
       "      <td>MIA</td>\n",
       "      <td>Miami Heat</td>\n",
       "      <td>0041900202</td>\n",
       "      <td>2020-09-02</td>\n",
       "      <td>MIA @ MIL</td>\n",
       "      <td>W</td>\n",
       "      <td>241</td>\n",
       "      <td>116</td>\n",
       "      <td>...</td>\n",
       "      <td>0.781</td>\n",
       "      <td>7</td>\n",
       "      <td>31</td>\n",
       "      <td>38</td>\n",
       "      <td>22</td>\n",
       "      <td>12</td>\n",
       "      <td>4</td>\n",
       "      <td>10</td>\n",
       "      <td>26</td>\n",
       "      <td>2.0</td>\n",
       "    </tr>\n",
       "    <tr>\n",
       "      <th>8</th>\n",
       "      <td>42019</td>\n",
       "      <td>1610612748</td>\n",
       "      <td>MIA</td>\n",
       "      <td>Miami Heat</td>\n",
       "      <td>0041900201</td>\n",
       "      <td>2020-08-31</td>\n",
       "      <td>MIA @ MIL</td>\n",
       "      <td>W</td>\n",
       "      <td>241</td>\n",
       "      <td>115</td>\n",
       "      <td>...</td>\n",
       "      <td>0.926</td>\n",
       "      <td>12</td>\n",
       "      <td>34</td>\n",
       "      <td>46</td>\n",
       "      <td>21</td>\n",
       "      <td>8</td>\n",
       "      <td>2</td>\n",
       "      <td>16</td>\n",
       "      <td>23</td>\n",
       "      <td>11.0</td>\n",
       "    </tr>\n",
       "    <tr>\n",
       "      <th>9</th>\n",
       "      <td>42019</td>\n",
       "      <td>1610612748</td>\n",
       "      <td>MIA</td>\n",
       "      <td>Miami Heat</td>\n",
       "      <td>0041900134</td>\n",
       "      <td>2020-08-24</td>\n",
       "      <td>MIA vs. IND</td>\n",
       "      <td>W</td>\n",
       "      <td>240</td>\n",
       "      <td>99</td>\n",
       "      <td>...</td>\n",
       "      <td>0.786</td>\n",
       "      <td>17</td>\n",
       "      <td>43</td>\n",
       "      <td>60</td>\n",
       "      <td>24</td>\n",
       "      <td>8</td>\n",
       "      <td>4</td>\n",
       "      <td>13</td>\n",
       "      <td>12</td>\n",
       "      <td>12.0</td>\n",
       "    </tr>\n",
       "  </tbody>\n",
       "</table>\n",
       "<p>10 rows × 28 columns</p>\n",
       "</div>"
      ],
      "text/plain": [
       "  SEASON_ID     TEAM_ID TEAM_ABBREVIATION   TEAM_NAME     GAME_ID   GAME_DATE  \\\n",
       "0     42019  1610612748               MIA  Miami Heat  0041900304  2020-09-23   \n",
       "1     42019  1610612748               MIA  Miami Heat  0041900303  2020-09-19   \n",
       "2     42019  1610612748               MIA  Miami Heat  0041900302  2020-09-17   \n",
       "3     42019  1610612748               MIA  Miami Heat  0041900301  2020-09-15   \n",
       "4     42019  1610612748               MIA  Miami Heat  0041900205  2020-09-08   \n",
       "5     42019  1610612748               MIA  Miami Heat  0041900204  2020-09-06   \n",
       "6     42019  1610612748               MIA  Miami Heat  0041900203  2020-09-04   \n",
       "7     42019  1610612748               MIA  Miami Heat  0041900202  2020-09-02   \n",
       "8     42019  1610612748               MIA  Miami Heat  0041900201  2020-08-31   \n",
       "9     42019  1610612748               MIA  Miami Heat  0041900134  2020-08-24   \n",
       "\n",
       "       MATCHUP WL  MIN  PTS  ...  FT_PCT  OREB  DREB  REB  AST  STL  BLK  TOV  \\\n",
       "0  MIA vs. BOS  W  240  112  ...   0.889    10    30   40   20    9    2    8   \n",
       "1  MIA vs. BOS  L  239  106  ...   0.824    12    30   42   21    5    8   13   \n",
       "2    MIA @ BOS  W  238  106  ...   0.857    11    27   38   27   11    2    9   \n",
       "3    MIA @ BOS  W  265  117  ...   0.750     7    34   41   32    6    6   12   \n",
       "4    MIA @ MIL  W  241  103  ...   0.917     5    43   48   21    6    7   21   \n",
       "5  MIA vs. MIL  L  266  115  ...   0.900     6    35   41   33    8    1   15   \n",
       "6  MIA vs. MIL  W  240  115  ...   0.794     9    40   49   27    3    6   11   \n",
       "7    MIA @ MIL  W  241  116  ...   0.781     7    31   38   22   12    4   10   \n",
       "8    MIA @ MIL  W  241  115  ...   0.926    12    34   46   21    8    2   16   \n",
       "9  MIA vs. IND  W  240   99  ...   0.786    17    43   60   24    8    4   13   \n",
       "\n",
       "   PF  PLUS_MINUS  \n",
       "0  20         1.2  \n",
       "1  24       -11.0  \n",
       "2  19         5.0  \n",
       "3  23         3.0  \n",
       "4  21         9.0  \n",
       "5  18        -3.0  \n",
       "6  19        15.0  \n",
       "7  26         2.0  \n",
       "8  23        11.0  \n",
       "9  12        12.0  \n",
       "\n",
       "[10 rows x 28 columns]"
      ]
     },
     "execution_count": 174,
     "metadata": {},
     "output_type": "execute_result"
    }
   ],
   "source": [
    "from nba_api.stats.endpoints import leaguegamefinder\n",
    "\n",
    "gamefinder = leaguegamefinder.LeagueGameFinder(team_id_nullable=time_id)\n",
    "\n",
    "games = gamefinder.get_data_frames()[0]\n",
    "\n",
    "### Filtra apenas os jogos da temporada 2019-2020 e mais os jogos da \"pré-temporada da bolha\"\n",
    "games_2020 = games.loc[(games.SEASON_ID=='42019')|(games.SEASON_ID=='22019')] \n",
    "\n",
    "games_2020.head(10)"
   ]
  },
  {
   "cell_type": "code",
   "execution_count": 175,
   "metadata": {},
   "outputs": [
    {
     "data": {
      "text/plain": [
       "94"
      ]
     },
     "execution_count": 175,
     "metadata": {},
     "output_type": "execute_result"
    }
   ],
   "source": [
    "### Nos diz quantos jogos estao dentro do dataframe\n",
    "len(games_2020)"
   ]
  },
  {
   "cell_type": "markdown",
   "metadata": {},
   "source": [
    "Podemos utilizar a coluna 'GAME ID' como identificador unico para outras informações de diferentes endpoint e os dados da coluna 'MATCH UP' serão muito úteis em passos futuros"
   ]
  },
  {
   "cell_type": "code",
   "execution_count": 176,
   "metadata": {},
   "outputs": [],
   "source": [
    "allgames = games_2020['GAME_ID']\n",
    "matchups = games_2020['MATCHUP']\n",
    "\n",
    "allgames = allgames.values\n",
    "matchups = matchups.values"
   ]
  },
  {
   "cell_type": "markdown",
   "metadata": {},
   "source": [
    "Um endpoint bastante útil é o __playbyplay__, que consiste em uma descrição detalhada de todos os eventos e ações do jogo. Podemos acesssar o dataframe gerado pela sua classe atraves do codigo abaixo:"
   ]
  },
  {
   "cell_type": "code",
   "execution_count": 177,
   "metadata": {},
   "outputs": [
    {
     "data": {
      "text/html": [
       "<div>\n",
       "<style scoped>\n",
       "    .dataframe tbody tr th:only-of-type {\n",
       "        vertical-align: middle;\n",
       "    }\n",
       "\n",
       "    .dataframe tbody tr th {\n",
       "        vertical-align: top;\n",
       "    }\n",
       "\n",
       "    .dataframe thead th {\n",
       "        text-align: right;\n",
       "    }\n",
       "</style>\n",
       "<table border=\"1\" class=\"dataframe\">\n",
       "  <thead>\n",
       "    <tr style=\"text-align: right;\">\n",
       "      <th></th>\n",
       "      <th>GAME_ID</th>\n",
       "      <th>EVENTNUM</th>\n",
       "      <th>EVENTMSGTYPE</th>\n",
       "      <th>EVENTMSGACTIONTYPE</th>\n",
       "      <th>PERIOD</th>\n",
       "      <th>WCTIMESTRING</th>\n",
       "      <th>PCTIMESTRING</th>\n",
       "      <th>HOMEDESCRIPTION</th>\n",
       "      <th>NEUTRALDESCRIPTION</th>\n",
       "      <th>VISITORDESCRIPTION</th>\n",
       "      <th>SCORE</th>\n",
       "      <th>SCOREMARGIN</th>\n",
       "    </tr>\n",
       "  </thead>\n",
       "  <tbody>\n",
       "    <tr>\n",
       "      <th>0</th>\n",
       "      <td>0041900304</td>\n",
       "      <td>2</td>\n",
       "      <td>12</td>\n",
       "      <td>0</td>\n",
       "      <td>1</td>\n",
       "      <td>8:46 PM</td>\n",
       "      <td>12:00</td>\n",
       "      <td>None</td>\n",
       "      <td>None</td>\n",
       "      <td>None</td>\n",
       "      <td>None</td>\n",
       "      <td>None</td>\n",
       "    </tr>\n",
       "    <tr>\n",
       "      <th>1</th>\n",
       "      <td>0041900304</td>\n",
       "      <td>4</td>\n",
       "      <td>10</td>\n",
       "      <td>0</td>\n",
       "      <td>1</td>\n",
       "      <td>8:46 PM</td>\n",
       "      <td>12:00</td>\n",
       "      <td>Jump Ball Adebayo vs. Theis: Tip to Crowder</td>\n",
       "      <td>None</td>\n",
       "      <td>None</td>\n",
       "      <td>None</td>\n",
       "      <td>None</td>\n",
       "    </tr>\n",
       "    <tr>\n",
       "      <th>2</th>\n",
       "      <td>0041900304</td>\n",
       "      <td>7</td>\n",
       "      <td>1</td>\n",
       "      <td>105</td>\n",
       "      <td>1</td>\n",
       "      <td>8:46 PM</td>\n",
       "      <td>11:40</td>\n",
       "      <td>Butler 8' Turnaround Fadeaway Bank Jump Shot (...</td>\n",
       "      <td>None</td>\n",
       "      <td>None</td>\n",
       "      <td>0 - 2</td>\n",
       "      <td>2</td>\n",
       "    </tr>\n",
       "    <tr>\n",
       "      <th>3</th>\n",
       "      <td>0041900304</td>\n",
       "      <td>8</td>\n",
       "      <td>1</td>\n",
       "      <td>66</td>\n",
       "      <td>1</td>\n",
       "      <td>8:46 PM</td>\n",
       "      <td>11:24</td>\n",
       "      <td>None</td>\n",
       "      <td>None</td>\n",
       "      <td>Smart 11' Jump Bank Shot (2 PTS)</td>\n",
       "      <td>2 - 2</td>\n",
       "      <td>TIE</td>\n",
       "    </tr>\n",
       "    <tr>\n",
       "      <th>4</th>\n",
       "      <td>0041900304</td>\n",
       "      <td>63</td>\n",
       "      <td>2</td>\n",
       "      <td>6</td>\n",
       "      <td>1</td>\n",
       "      <td>8:47 PM</td>\n",
       "      <td>11:13</td>\n",
       "      <td>MISS Butler 4' Driving Layup</td>\n",
       "      <td>None</td>\n",
       "      <td>Tatum BLOCK (1 BLK)</td>\n",
       "      <td>None</td>\n",
       "      <td>None</td>\n",
       "    </tr>\n",
       "    <tr>\n",
       "      <th>5</th>\n",
       "      <td>0041900304</td>\n",
       "      <td>65</td>\n",
       "      <td>4</td>\n",
       "      <td>0</td>\n",
       "      <td>1</td>\n",
       "      <td>8:47 PM</td>\n",
       "      <td>11:12</td>\n",
       "      <td>HEAT Rebound</td>\n",
       "      <td>None</td>\n",
       "      <td>None</td>\n",
       "      <td>None</td>\n",
       "      <td>None</td>\n",
       "    </tr>\n",
       "    <tr>\n",
       "      <th>6</th>\n",
       "      <td>0041900304</td>\n",
       "      <td>10</td>\n",
       "      <td>1</td>\n",
       "      <td>63</td>\n",
       "      <td>1</td>\n",
       "      <td>8:47 PM</td>\n",
       "      <td>11:00</td>\n",
       "      <td>Adebayo 10' Fadeaway Jumper (2 PTS) (Crowder 1...</td>\n",
       "      <td>None</td>\n",
       "      <td>None</td>\n",
       "      <td>2 - 4</td>\n",
       "      <td>2</td>\n",
       "    </tr>\n",
       "    <tr>\n",
       "      <th>7</th>\n",
       "      <td>0041900304</td>\n",
       "      <td>12</td>\n",
       "      <td>2</td>\n",
       "      <td>101</td>\n",
       "      <td>1</td>\n",
       "      <td>8:47 PM</td>\n",
       "      <td>10:44</td>\n",
       "      <td>None</td>\n",
       "      <td>None</td>\n",
       "      <td>MISS Tatum 8' Driving Floating Jump Shot</td>\n",
       "      <td>None</td>\n",
       "      <td>None</td>\n",
       "    </tr>\n",
       "    <tr>\n",
       "      <th>8</th>\n",
       "      <td>0041900304</td>\n",
       "      <td>13</td>\n",
       "      <td>4</td>\n",
       "      <td>0</td>\n",
       "      <td>1</td>\n",
       "      <td>8:47 PM</td>\n",
       "      <td>10:43</td>\n",
       "      <td>Butler REBOUND (Off:0 Def:1)</td>\n",
       "      <td>None</td>\n",
       "      <td>None</td>\n",
       "      <td>None</td>\n",
       "      <td>None</td>\n",
       "    </tr>\n",
       "    <tr>\n",
       "      <th>9</th>\n",
       "      <td>0041900304</td>\n",
       "      <td>14</td>\n",
       "      <td>2</td>\n",
       "      <td>80</td>\n",
       "      <td>1</td>\n",
       "      <td>8:48 PM</td>\n",
       "      <td>10:21</td>\n",
       "      <td>MISS Dragic 15' Step Back Jump Shot</td>\n",
       "      <td>None</td>\n",
       "      <td>None</td>\n",
       "      <td>None</td>\n",
       "      <td>None</td>\n",
       "    </tr>\n",
       "    <tr>\n",
       "      <th>10</th>\n",
       "      <td>0041900304</td>\n",
       "      <td>15</td>\n",
       "      <td>4</td>\n",
       "      <td>0</td>\n",
       "      <td>1</td>\n",
       "      <td>8:48 PM</td>\n",
       "      <td>10:20</td>\n",
       "      <td>None</td>\n",
       "      <td>None</td>\n",
       "      <td>Tatum REBOUND (Off:0 Def:1)</td>\n",
       "      <td>None</td>\n",
       "      <td>None</td>\n",
       "    </tr>\n",
       "    <tr>\n",
       "      <th>11</th>\n",
       "      <td>0041900304</td>\n",
       "      <td>16</td>\n",
       "      <td>2</td>\n",
       "      <td>1</td>\n",
       "      <td>1</td>\n",
       "      <td>8:48 PM</td>\n",
       "      <td>10:14</td>\n",
       "      <td>None</td>\n",
       "      <td>None</td>\n",
       "      <td>MISS Smart 24' 3PT Jump Shot</td>\n",
       "      <td>None</td>\n",
       "      <td>None</td>\n",
       "    </tr>\n",
       "    <tr>\n",
       "      <th>12</th>\n",
       "      <td>0041900304</td>\n",
       "      <td>17</td>\n",
       "      <td>4</td>\n",
       "      <td>0</td>\n",
       "      <td>1</td>\n",
       "      <td>8:48 PM</td>\n",
       "      <td>10:13</td>\n",
       "      <td>Crowder REBOUND (Off:0 Def:1)</td>\n",
       "      <td>None</td>\n",
       "      <td>None</td>\n",
       "      <td>None</td>\n",
       "      <td>None</td>\n",
       "    </tr>\n",
       "    <tr>\n",
       "      <th>13</th>\n",
       "      <td>0041900304</td>\n",
       "      <td>18</td>\n",
       "      <td>1</td>\n",
       "      <td>79</td>\n",
       "      <td>1</td>\n",
       "      <td>8:48 PM</td>\n",
       "      <td>10:02</td>\n",
       "      <td>Dragic 18' Pullup Jump Shot (2 PTS)</td>\n",
       "      <td>None</td>\n",
       "      <td>None</td>\n",
       "      <td>2 - 6</td>\n",
       "      <td>4</td>\n",
       "    </tr>\n",
       "    <tr>\n",
       "      <th>14</th>\n",
       "      <td>0041900304</td>\n",
       "      <td>19</td>\n",
       "      <td>1</td>\n",
       "      <td>79</td>\n",
       "      <td>1</td>\n",
       "      <td>8:48 PM</td>\n",
       "      <td>9:41</td>\n",
       "      <td>None</td>\n",
       "      <td>None</td>\n",
       "      <td>Brown 17' Pullup Jump Shot (2 PTS) (Walker 1 AST)</td>\n",
       "      <td>4 - 6</td>\n",
       "      <td>2</td>\n",
       "    </tr>\n",
       "    <tr>\n",
       "      <th>15</th>\n",
       "      <td>0041900304</td>\n",
       "      <td>21</td>\n",
       "      <td>2</td>\n",
       "      <td>1</td>\n",
       "      <td>1</td>\n",
       "      <td>8:49 PM</td>\n",
       "      <td>9:19</td>\n",
       "      <td>MISS Crowder 26' 3PT Jump Shot</td>\n",
       "      <td>None</td>\n",
       "      <td>None</td>\n",
       "      <td>None</td>\n",
       "      <td>None</td>\n",
       "    </tr>\n",
       "    <tr>\n",
       "      <th>16</th>\n",
       "      <td>0041900304</td>\n",
       "      <td>22</td>\n",
       "      <td>4</td>\n",
       "      <td>0</td>\n",
       "      <td>1</td>\n",
       "      <td>8:49 PM</td>\n",
       "      <td>9:16</td>\n",
       "      <td>None</td>\n",
       "      <td>None</td>\n",
       "      <td>Theis REBOUND (Off:0 Def:1)</td>\n",
       "      <td>None</td>\n",
       "      <td>None</td>\n",
       "    </tr>\n",
       "    <tr>\n",
       "      <th>17</th>\n",
       "      <td>0041900304</td>\n",
       "      <td>23</td>\n",
       "      <td>5</td>\n",
       "      <td>45</td>\n",
       "      <td>1</td>\n",
       "      <td>8:49 PM</td>\n",
       "      <td>9:07</td>\n",
       "      <td>None</td>\n",
       "      <td>None</td>\n",
       "      <td>Tatum Out of Bounds - Bad Pass Turnover Turnov...</td>\n",
       "      <td>None</td>\n",
       "      <td>None</td>\n",
       "    </tr>\n",
       "    <tr>\n",
       "      <th>18</th>\n",
       "      <td>0041900304</td>\n",
       "      <td>24</td>\n",
       "      <td>2</td>\n",
       "      <td>1</td>\n",
       "      <td>1</td>\n",
       "      <td>8:49 PM</td>\n",
       "      <td>8:56</td>\n",
       "      <td>MISS Adebayo 18' Jump Shot</td>\n",
       "      <td>None</td>\n",
       "      <td>None</td>\n",
       "      <td>None</td>\n",
       "      <td>None</td>\n",
       "    </tr>\n",
       "    <tr>\n",
       "      <th>19</th>\n",
       "      <td>0041900304</td>\n",
       "      <td>25</td>\n",
       "      <td>4</td>\n",
       "      <td>0</td>\n",
       "      <td>1</td>\n",
       "      <td>8:49 PM</td>\n",
       "      <td>8:55</td>\n",
       "      <td>None</td>\n",
       "      <td>None</td>\n",
       "      <td>Tatum REBOUND (Off:0 Def:2)</td>\n",
       "      <td>None</td>\n",
       "      <td>None</td>\n",
       "    </tr>\n",
       "    <tr>\n",
       "      <th>20</th>\n",
       "      <td>0041900304</td>\n",
       "      <td>26</td>\n",
       "      <td>1</td>\n",
       "      <td>1</td>\n",
       "      <td>1</td>\n",
       "      <td>8:50 PM</td>\n",
       "      <td>8:36</td>\n",
       "      <td>None</td>\n",
       "      <td>None</td>\n",
       "      <td>Walker  3PT Jump Shot (3 PTS) (Smart 1 AST)</td>\n",
       "      <td>7 - 6</td>\n",
       "      <td>-1</td>\n",
       "    </tr>\n",
       "    <tr>\n",
       "      <th>21</th>\n",
       "      <td>0041900304</td>\n",
       "      <td>28</td>\n",
       "      <td>1</td>\n",
       "      <td>79</td>\n",
       "      <td>1</td>\n",
       "      <td>8:50 PM</td>\n",
       "      <td>8:12</td>\n",
       "      <td>Butler 15' Pullup Jump Shot (4 PTS) (Adebayo 1...</td>\n",
       "      <td>None</td>\n",
       "      <td>None</td>\n",
       "      <td>7 - 8</td>\n",
       "      <td>1</td>\n",
       "    </tr>\n",
       "    <tr>\n",
       "      <th>22</th>\n",
       "      <td>0041900304</td>\n",
       "      <td>30</td>\n",
       "      <td>1</td>\n",
       "      <td>1</td>\n",
       "      <td>1</td>\n",
       "      <td>8:50 PM</td>\n",
       "      <td>7:55</td>\n",
       "      <td>None</td>\n",
       "      <td>None</td>\n",
       "      <td>Brown 24' 3PT Jump Shot (5 PTS) (Tatum 1 AST)</td>\n",
       "      <td>10 - 8</td>\n",
       "      <td>-2</td>\n",
       "    </tr>\n",
       "    <tr>\n",
       "      <th>23</th>\n",
       "      <td>0041900304</td>\n",
       "      <td>32</td>\n",
       "      <td>6</td>\n",
       "      <td>1</td>\n",
       "      <td>1</td>\n",
       "      <td>8:51 PM</td>\n",
       "      <td>7:44</td>\n",
       "      <td>None</td>\n",
       "      <td>None</td>\n",
       "      <td>Brown P.FOUL (P1.T1) (S.Foster)</td>\n",
       "      <td>None</td>\n",
       "      <td>None</td>\n",
       "    </tr>\n",
       "    <tr>\n",
       "      <th>24</th>\n",
       "      <td>0041900304</td>\n",
       "      <td>34</td>\n",
       "      <td>6</td>\n",
       "      <td>1</td>\n",
       "      <td>1</td>\n",
       "      <td>8:51 PM</td>\n",
       "      <td>7:38</td>\n",
       "      <td>None</td>\n",
       "      <td>None</td>\n",
       "      <td>Brown P.FOUL (P2.T2) (T.Brothers)</td>\n",
       "      <td>None</td>\n",
       "      <td>None</td>\n",
       "    </tr>\n",
       "    <tr>\n",
       "      <th>25</th>\n",
       "      <td>0041900304</td>\n",
       "      <td>36</td>\n",
       "      <td>2</td>\n",
       "      <td>1</td>\n",
       "      <td>1</td>\n",
       "      <td>8:52 PM</td>\n",
       "      <td>7:29</td>\n",
       "      <td>MISS Robinson 26' 3PT Jump Shot</td>\n",
       "      <td>None</td>\n",
       "      <td>None</td>\n",
       "      <td>None</td>\n",
       "      <td>None</td>\n",
       "    </tr>\n",
       "    <tr>\n",
       "      <th>26</th>\n",
       "      <td>0041900304</td>\n",
       "      <td>37</td>\n",
       "      <td>4</td>\n",
       "      <td>0</td>\n",
       "      <td>1</td>\n",
       "      <td>8:52 PM</td>\n",
       "      <td>7:28</td>\n",
       "      <td>None</td>\n",
       "      <td>None</td>\n",
       "      <td>Brown REBOUND (Off:0 Def:1)</td>\n",
       "      <td>None</td>\n",
       "      <td>None</td>\n",
       "    </tr>\n",
       "    <tr>\n",
       "      <th>27</th>\n",
       "      <td>0041900304</td>\n",
       "      <td>38</td>\n",
       "      <td>2</td>\n",
       "      <td>1</td>\n",
       "      <td>1</td>\n",
       "      <td>8:52 PM</td>\n",
       "      <td>7:19</td>\n",
       "      <td>None</td>\n",
       "      <td>None</td>\n",
       "      <td>MISS Tatum 27' 3PT Jump Shot</td>\n",
       "      <td>None</td>\n",
       "      <td>None</td>\n",
       "    </tr>\n",
       "    <tr>\n",
       "      <th>28</th>\n",
       "      <td>0041900304</td>\n",
       "      <td>39</td>\n",
       "      <td>4</td>\n",
       "      <td>0</td>\n",
       "      <td>1</td>\n",
       "      <td>8:52 PM</td>\n",
       "      <td>7:18</td>\n",
       "      <td>Dragic REBOUND (Off:0 Def:1)</td>\n",
       "      <td>None</td>\n",
       "      <td>None</td>\n",
       "      <td>None</td>\n",
       "      <td>None</td>\n",
       "    </tr>\n",
       "    <tr>\n",
       "      <th>29</th>\n",
       "      <td>0041900304</td>\n",
       "      <td>40</td>\n",
       "      <td>2</td>\n",
       "      <td>41</td>\n",
       "      <td>1</td>\n",
       "      <td>8:52 PM</td>\n",
       "      <td>7:12</td>\n",
       "      <td>MISS Dragic 2' Running Layup</td>\n",
       "      <td>None</td>\n",
       "      <td>None</td>\n",
       "      <td>None</td>\n",
       "      <td>None</td>\n",
       "    </tr>\n",
       "    <tr>\n",
       "      <th>...</th>\n",
       "      <td>...</td>\n",
       "      <td>...</td>\n",
       "      <td>...</td>\n",
       "      <td>...</td>\n",
       "      <td>...</td>\n",
       "      <td>...</td>\n",
       "      <td>...</td>\n",
       "      <td>...</td>\n",
       "      <td>...</td>\n",
       "      <td>...</td>\n",
       "      <td>...</td>\n",
       "      <td>...</td>\n",
       "    </tr>\n",
       "    <tr>\n",
       "      <th>441</th>\n",
       "      <td>0041900304</td>\n",
       "      <td>623</td>\n",
       "      <td>18</td>\n",
       "      <td>0</td>\n",
       "      <td>4</td>\n",
       "      <td>11:08 PM</td>\n",
       "      <td>0:18</td>\n",
       "      <td>None</td>\n",
       "      <td>None</td>\n",
       "      <td>None</td>\n",
       "      <td>101 - 107</td>\n",
       "      <td>6</td>\n",
       "    </tr>\n",
       "    <tr>\n",
       "      <th>442</th>\n",
       "      <td>0041900304</td>\n",
       "      <td>627</td>\n",
       "      <td>1</td>\n",
       "      <td>1</td>\n",
       "      <td>4</td>\n",
       "      <td>11:11 PM</td>\n",
       "      <td>0:16</td>\n",
       "      <td>None</td>\n",
       "      <td>None</td>\n",
       "      <td>Brown  3PT Jump Shot (21 PTS) (Hayward 3 AST)</td>\n",
       "      <td>104 - 107</td>\n",
       "      <td>3</td>\n",
       "    </tr>\n",
       "    <tr>\n",
       "      <th>443</th>\n",
       "      <td>0041900304</td>\n",
       "      <td>629</td>\n",
       "      <td>9</td>\n",
       "      <td>1</td>\n",
       "      <td>4</td>\n",
       "      <td>11:11 PM</td>\n",
       "      <td>0:16</td>\n",
       "      <td>HEAT Timeout: Regular (Full 6 Short 0)</td>\n",
       "      <td>None</td>\n",
       "      <td>None</td>\n",
       "      <td>None</td>\n",
       "      <td>None</td>\n",
       "    </tr>\n",
       "    <tr>\n",
       "      <th>444</th>\n",
       "      <td>0041900304</td>\n",
       "      <td>630</td>\n",
       "      <td>8</td>\n",
       "      <td>0</td>\n",
       "      <td>4</td>\n",
       "      <td>11:12 PM</td>\n",
       "      <td>0:16</td>\n",
       "      <td>SUB: Robinson FOR Iguodala</td>\n",
       "      <td>None</td>\n",
       "      <td>None</td>\n",
       "      <td>None</td>\n",
       "      <td>None</td>\n",
       "    </tr>\n",
       "    <tr>\n",
       "      <th>445</th>\n",
       "      <td>0041900304</td>\n",
       "      <td>632</td>\n",
       "      <td>6</td>\n",
       "      <td>28</td>\n",
       "      <td>4</td>\n",
       "      <td>11:13 PM</td>\n",
       "      <td>0:13</td>\n",
       "      <td>None</td>\n",
       "      <td>None</td>\n",
       "      <td>Smart Personal Take Foul (P5.PN) (T.Brothers)</td>\n",
       "      <td>None</td>\n",
       "      <td>None</td>\n",
       "    </tr>\n",
       "    <tr>\n",
       "      <th>446</th>\n",
       "      <td>0041900304</td>\n",
       "      <td>634</td>\n",
       "      <td>3</td>\n",
       "      <td>11</td>\n",
       "      <td>4</td>\n",
       "      <td>11:13 PM</td>\n",
       "      <td>0:13</td>\n",
       "      <td>Herro Free Throw 1 of 2 (36 PTS)</td>\n",
       "      <td>None</td>\n",
       "      <td>None</td>\n",
       "      <td>104 - 108</td>\n",
       "      <td>4</td>\n",
       "    </tr>\n",
       "    <tr>\n",
       "      <th>447</th>\n",
       "      <td>0041900304</td>\n",
       "      <td>635</td>\n",
       "      <td>8</td>\n",
       "      <td>0</td>\n",
       "      <td>4</td>\n",
       "      <td>11:13 PM</td>\n",
       "      <td>0:13</td>\n",
       "      <td>SUB: Iguodala FOR Robinson</td>\n",
       "      <td>None</td>\n",
       "      <td>None</td>\n",
       "      <td>None</td>\n",
       "      <td>None</td>\n",
       "    </tr>\n",
       "    <tr>\n",
       "      <th>448</th>\n",
       "      <td>0041900304</td>\n",
       "      <td>637</td>\n",
       "      <td>3</td>\n",
       "      <td>12</td>\n",
       "      <td>4</td>\n",
       "      <td>11:14 PM</td>\n",
       "      <td>0:13</td>\n",
       "      <td>Herro Free Throw 2 of 2 (37 PTS)</td>\n",
       "      <td>None</td>\n",
       "      <td>None</td>\n",
       "      <td>104 - 109</td>\n",
       "      <td>5</td>\n",
       "    </tr>\n",
       "    <tr>\n",
       "      <th>449</th>\n",
       "      <td>0041900304</td>\n",
       "      <td>638</td>\n",
       "      <td>6</td>\n",
       "      <td>2</td>\n",
       "      <td>4</td>\n",
       "      <td>11:14 PM</td>\n",
       "      <td>0:09</td>\n",
       "      <td>Butler S.FOUL (P2.PN) (S.Foster)</td>\n",
       "      <td>None</td>\n",
       "      <td>None</td>\n",
       "      <td>None</td>\n",
       "      <td>None</td>\n",
       "    </tr>\n",
       "    <tr>\n",
       "      <th>450</th>\n",
       "      <td>0041900304</td>\n",
       "      <td>640</td>\n",
       "      <td>3</td>\n",
       "      <td>13</td>\n",
       "      <td>4</td>\n",
       "      <td>11:15 PM</td>\n",
       "      <td>0:09</td>\n",
       "      <td>None</td>\n",
       "      <td>None</td>\n",
       "      <td>Walker Free Throw 1 of 3 (18 PTS)</td>\n",
       "      <td>105 - 109</td>\n",
       "      <td>4</td>\n",
       "    </tr>\n",
       "    <tr>\n",
       "      <th>451</th>\n",
       "      <td>0041900304</td>\n",
       "      <td>641</td>\n",
       "      <td>3</td>\n",
       "      <td>14</td>\n",
       "      <td>4</td>\n",
       "      <td>11:15 PM</td>\n",
       "      <td>0:09</td>\n",
       "      <td>None</td>\n",
       "      <td>None</td>\n",
       "      <td>Walker Free Throw 2 of 3 (19 PTS)</td>\n",
       "      <td>106 - 109</td>\n",
       "      <td>3</td>\n",
       "    </tr>\n",
       "    <tr>\n",
       "      <th>452</th>\n",
       "      <td>0041900304</td>\n",
       "      <td>642</td>\n",
       "      <td>3</td>\n",
       "      <td>15</td>\n",
       "      <td>4</td>\n",
       "      <td>11:15 PM</td>\n",
       "      <td>0:09</td>\n",
       "      <td>None</td>\n",
       "      <td>None</td>\n",
       "      <td>Walker Free Throw 3 of 3 (20 PTS)</td>\n",
       "      <td>107 - 109</td>\n",
       "      <td>2</td>\n",
       "    </tr>\n",
       "    <tr>\n",
       "      <th>453</th>\n",
       "      <td>0041900304</td>\n",
       "      <td>643</td>\n",
       "      <td>9</td>\n",
       "      <td>1</td>\n",
       "      <td>4</td>\n",
       "      <td>11:15 PM</td>\n",
       "      <td>0:09</td>\n",
       "      <td>HEAT Timeout: Regular (Full 7 Short 0)</td>\n",
       "      <td>None</td>\n",
       "      <td>None</td>\n",
       "      <td>None</td>\n",
       "      <td>None</td>\n",
       "    </tr>\n",
       "    <tr>\n",
       "      <th>454</th>\n",
       "      <td>0041900304</td>\n",
       "      <td>644</td>\n",
       "      <td>8</td>\n",
       "      <td>0</td>\n",
       "      <td>4</td>\n",
       "      <td>11:16 PM</td>\n",
       "      <td>0:09</td>\n",
       "      <td>SUB: Robinson FOR Iguodala</td>\n",
       "      <td>None</td>\n",
       "      <td>None</td>\n",
       "      <td>None</td>\n",
       "      <td>None</td>\n",
       "    </tr>\n",
       "    <tr>\n",
       "      <th>455</th>\n",
       "      <td>0041900304</td>\n",
       "      <td>646</td>\n",
       "      <td>6</td>\n",
       "      <td>28</td>\n",
       "      <td>4</td>\n",
       "      <td>11:17 PM</td>\n",
       "      <td>0:06</td>\n",
       "      <td>None</td>\n",
       "      <td>None</td>\n",
       "      <td>Smart Personal Take Foul (P6.PN) (T.Brothers)</td>\n",
       "      <td>None</td>\n",
       "      <td>None</td>\n",
       "    </tr>\n",
       "    <tr>\n",
       "      <th>456</th>\n",
       "      <td>0041900304</td>\n",
       "      <td>648</td>\n",
       "      <td>8</td>\n",
       "      <td>0</td>\n",
       "      <td>4</td>\n",
       "      <td>11:17 PM</td>\n",
       "      <td>0:06</td>\n",
       "      <td>None</td>\n",
       "      <td>None</td>\n",
       "      <td>SUB: Theis FOR Smart</td>\n",
       "      <td>None</td>\n",
       "      <td>None</td>\n",
       "    </tr>\n",
       "    <tr>\n",
       "      <th>457</th>\n",
       "      <td>0041900304</td>\n",
       "      <td>650</td>\n",
       "      <td>3</td>\n",
       "      <td>11</td>\n",
       "      <td>4</td>\n",
       "      <td>11:18 PM</td>\n",
       "      <td>0:06</td>\n",
       "      <td>Butler Free Throw 1 of 2 (22 PTS)</td>\n",
       "      <td>None</td>\n",
       "      <td>None</td>\n",
       "      <td>107 - 110</td>\n",
       "      <td>3</td>\n",
       "    </tr>\n",
       "    <tr>\n",
       "      <th>458</th>\n",
       "      <td>0041900304</td>\n",
       "      <td>651</td>\n",
       "      <td>8</td>\n",
       "      <td>0</td>\n",
       "      <td>4</td>\n",
       "      <td>11:18 PM</td>\n",
       "      <td>0:06</td>\n",
       "      <td>SUB: Iguodala FOR Robinson</td>\n",
       "      <td>None</td>\n",
       "      <td>None</td>\n",
       "      <td>None</td>\n",
       "      <td>None</td>\n",
       "    </tr>\n",
       "    <tr>\n",
       "      <th>459</th>\n",
       "      <td>0041900304</td>\n",
       "      <td>653</td>\n",
       "      <td>3</td>\n",
       "      <td>12</td>\n",
       "      <td>4</td>\n",
       "      <td>11:18 PM</td>\n",
       "      <td>0:06</td>\n",
       "      <td>Butler Free Throw 2 of 2 (23 PTS)</td>\n",
       "      <td>None</td>\n",
       "      <td>None</td>\n",
       "      <td>107 - 111</td>\n",
       "      <td>4</td>\n",
       "    </tr>\n",
       "    <tr>\n",
       "      <th>460</th>\n",
       "      <td>0041900304</td>\n",
       "      <td>654</td>\n",
       "      <td>9</td>\n",
       "      <td>1</td>\n",
       "      <td>4</td>\n",
       "      <td>11:18 PM</td>\n",
       "      <td>0:06</td>\n",
       "      <td>None</td>\n",
       "      <td>None</td>\n",
       "      <td>Celtics Timeout: Regular (Reg.7 Short 0)</td>\n",
       "      <td>None</td>\n",
       "      <td>None</td>\n",
       "    </tr>\n",
       "    <tr>\n",
       "      <th>461</th>\n",
       "      <td>0041900304</td>\n",
       "      <td>655</td>\n",
       "      <td>2</td>\n",
       "      <td>1</td>\n",
       "      <td>4</td>\n",
       "      <td>11:20 PM</td>\n",
       "      <td>0:04</td>\n",
       "      <td>None</td>\n",
       "      <td>None</td>\n",
       "      <td>MISS Walker 26' 3PT Jump Shot</td>\n",
       "      <td>None</td>\n",
       "      <td>None</td>\n",
       "    </tr>\n",
       "    <tr>\n",
       "      <th>462</th>\n",
       "      <td>0041900304</td>\n",
       "      <td>656</td>\n",
       "      <td>4</td>\n",
       "      <td>0</td>\n",
       "      <td>4</td>\n",
       "      <td>11:20 PM</td>\n",
       "      <td>0:03</td>\n",
       "      <td>None</td>\n",
       "      <td>None</td>\n",
       "      <td>Theis REBOUND (Off:4 Def:5)</td>\n",
       "      <td>None</td>\n",
       "      <td>None</td>\n",
       "    </tr>\n",
       "    <tr>\n",
       "      <th>463</th>\n",
       "      <td>0041900304</td>\n",
       "      <td>657</td>\n",
       "      <td>2</td>\n",
       "      <td>97</td>\n",
       "      <td>4</td>\n",
       "      <td>11:20 PM</td>\n",
       "      <td>0:03</td>\n",
       "      <td>None</td>\n",
       "      <td>None</td>\n",
       "      <td>MISS Theis 1' Tip Layup Shot</td>\n",
       "      <td>None</td>\n",
       "      <td>None</td>\n",
       "    </tr>\n",
       "    <tr>\n",
       "      <th>464</th>\n",
       "      <td>0041900304</td>\n",
       "      <td>658</td>\n",
       "      <td>4</td>\n",
       "      <td>0</td>\n",
       "      <td>4</td>\n",
       "      <td>11:20 PM</td>\n",
       "      <td>0:02</td>\n",
       "      <td>None</td>\n",
       "      <td>None</td>\n",
       "      <td>Hayward REBOUND (Off:2 Def:5)</td>\n",
       "      <td>None</td>\n",
       "      <td>None</td>\n",
       "    </tr>\n",
       "    <tr>\n",
       "      <th>465</th>\n",
       "      <td>0041900304</td>\n",
       "      <td>659</td>\n",
       "      <td>1</td>\n",
       "      <td>97</td>\n",
       "      <td>4</td>\n",
       "      <td>11:20 PM</td>\n",
       "      <td>0:01</td>\n",
       "      <td>None</td>\n",
       "      <td>None</td>\n",
       "      <td>Hayward 1' Tip Layup Shot (14 PTS)</td>\n",
       "      <td>109 - 111</td>\n",
       "      <td>2</td>\n",
       "    </tr>\n",
       "    <tr>\n",
       "      <th>466</th>\n",
       "      <td>0041900304</td>\n",
       "      <td>660</td>\n",
       "      <td>6</td>\n",
       "      <td>28</td>\n",
       "      <td>4</td>\n",
       "      <td>11:20 PM</td>\n",
       "      <td>0:01</td>\n",
       "      <td>None</td>\n",
       "      <td>None</td>\n",
       "      <td>Walker Personal Take Foul (P3.PN) (S.Foster)</td>\n",
       "      <td>None</td>\n",
       "      <td>None</td>\n",
       "    </tr>\n",
       "    <tr>\n",
       "      <th>467</th>\n",
       "      <td>0041900304</td>\n",
       "      <td>662</td>\n",
       "      <td>3</td>\n",
       "      <td>11</td>\n",
       "      <td>4</td>\n",
       "      <td>11:21 PM</td>\n",
       "      <td>0:01</td>\n",
       "      <td>MISS Butler Free Throw 1 of 2</td>\n",
       "      <td>None</td>\n",
       "      <td>None</td>\n",
       "      <td>None</td>\n",
       "      <td>None</td>\n",
       "    </tr>\n",
       "    <tr>\n",
       "      <th>468</th>\n",
       "      <td>0041900304</td>\n",
       "      <td>663</td>\n",
       "      <td>4</td>\n",
       "      <td>1</td>\n",
       "      <td>4</td>\n",
       "      <td>11:21 PM</td>\n",
       "      <td>0:01</td>\n",
       "      <td>HEAT Rebound</td>\n",
       "      <td>None</td>\n",
       "      <td>None</td>\n",
       "      <td>None</td>\n",
       "      <td>None</td>\n",
       "    </tr>\n",
       "    <tr>\n",
       "      <th>469</th>\n",
       "      <td>0041900304</td>\n",
       "      <td>664</td>\n",
       "      <td>3</td>\n",
       "      <td>12</td>\n",
       "      <td>4</td>\n",
       "      <td>11:21 PM</td>\n",
       "      <td>0:01</td>\n",
       "      <td>Butler Free Throw 2 of 2 (24 PTS)</td>\n",
       "      <td>None</td>\n",
       "      <td>None</td>\n",
       "      <td>109 - 112</td>\n",
       "      <td>3</td>\n",
       "    </tr>\n",
       "    <tr>\n",
       "      <th>470</th>\n",
       "      <td>0041900304</td>\n",
       "      <td>665</td>\n",
       "      <td>13</td>\n",
       "      <td>0</td>\n",
       "      <td>4</td>\n",
       "      <td>11:21 PM</td>\n",
       "      <td>0:00</td>\n",
       "      <td>None</td>\n",
       "      <td>None</td>\n",
       "      <td>None</td>\n",
       "      <td>109 - 112</td>\n",
       "      <td>3</td>\n",
       "    </tr>\n",
       "  </tbody>\n",
       "</table>\n",
       "<p>471 rows × 12 columns</p>\n",
       "</div>"
      ],
      "text/plain": [
       "        GAME_ID  EVENTNUM  EVENTMSGTYPE  EVENTMSGACTIONTYPE  PERIOD  \\\n",
       "0    0041900304         2            12                   0       1   \n",
       "1    0041900304         4            10                   0       1   \n",
       "2    0041900304         7             1                 105       1   \n",
       "3    0041900304         8             1                  66       1   \n",
       "4    0041900304        63             2                   6       1   \n",
       "5    0041900304        65             4                   0       1   \n",
       "6    0041900304        10             1                  63       1   \n",
       "7    0041900304        12             2                 101       1   \n",
       "8    0041900304        13             4                   0       1   \n",
       "9    0041900304        14             2                  80       1   \n",
       "10   0041900304        15             4                   0       1   \n",
       "11   0041900304        16             2                   1       1   \n",
       "12   0041900304        17             4                   0       1   \n",
       "13   0041900304        18             1                  79       1   \n",
       "14   0041900304        19             1                  79       1   \n",
       "15   0041900304        21             2                   1       1   \n",
       "16   0041900304        22             4                   0       1   \n",
       "17   0041900304        23             5                  45       1   \n",
       "18   0041900304        24             2                   1       1   \n",
       "19   0041900304        25             4                   0       1   \n",
       "20   0041900304        26             1                   1       1   \n",
       "21   0041900304        28             1                  79       1   \n",
       "22   0041900304        30             1                   1       1   \n",
       "23   0041900304        32             6                   1       1   \n",
       "24   0041900304        34             6                   1       1   \n",
       "25   0041900304        36             2                   1       1   \n",
       "26   0041900304        37             4                   0       1   \n",
       "27   0041900304        38             2                   1       1   \n",
       "28   0041900304        39             4                   0       1   \n",
       "29   0041900304        40             2                  41       1   \n",
       "..          ...       ...           ...                 ...     ...   \n",
       "441  0041900304       623            18                   0       4   \n",
       "442  0041900304       627             1                   1       4   \n",
       "443  0041900304       629             9                   1       4   \n",
       "444  0041900304       630             8                   0       4   \n",
       "445  0041900304       632             6                  28       4   \n",
       "446  0041900304       634             3                  11       4   \n",
       "447  0041900304       635             8                   0       4   \n",
       "448  0041900304       637             3                  12       4   \n",
       "449  0041900304       638             6                   2       4   \n",
       "450  0041900304       640             3                  13       4   \n",
       "451  0041900304       641             3                  14       4   \n",
       "452  0041900304       642             3                  15       4   \n",
       "453  0041900304       643             9                   1       4   \n",
       "454  0041900304       644             8                   0       4   \n",
       "455  0041900304       646             6                  28       4   \n",
       "456  0041900304       648             8                   0       4   \n",
       "457  0041900304       650             3                  11       4   \n",
       "458  0041900304       651             8                   0       4   \n",
       "459  0041900304       653             3                  12       4   \n",
       "460  0041900304       654             9                   1       4   \n",
       "461  0041900304       655             2                   1       4   \n",
       "462  0041900304       656             4                   0       4   \n",
       "463  0041900304       657             2                  97       4   \n",
       "464  0041900304       658             4                   0       4   \n",
       "465  0041900304       659             1                  97       4   \n",
       "466  0041900304       660             6                  28       4   \n",
       "467  0041900304       662             3                  11       4   \n",
       "468  0041900304       663             4                   1       4   \n",
       "469  0041900304       664             3                  12       4   \n",
       "470  0041900304       665            13                   0       4   \n",
       "\n",
       "    WCTIMESTRING PCTIMESTRING  \\\n",
       "0        8:46 PM        12:00   \n",
       "1        8:46 PM        12:00   \n",
       "2        8:46 PM        11:40   \n",
       "3        8:46 PM        11:24   \n",
       "4        8:47 PM        11:13   \n",
       "5        8:47 PM        11:12   \n",
       "6        8:47 PM        11:00   \n",
       "7        8:47 PM        10:44   \n",
       "8        8:47 PM        10:43   \n",
       "9        8:48 PM        10:21   \n",
       "10       8:48 PM        10:20   \n",
       "11       8:48 PM        10:14   \n",
       "12       8:48 PM        10:13   \n",
       "13       8:48 PM        10:02   \n",
       "14       8:48 PM         9:41   \n",
       "15       8:49 PM         9:19   \n",
       "16       8:49 PM         9:16   \n",
       "17       8:49 PM         9:07   \n",
       "18       8:49 PM         8:56   \n",
       "19       8:49 PM         8:55   \n",
       "20       8:50 PM         8:36   \n",
       "21       8:50 PM         8:12   \n",
       "22       8:50 PM         7:55   \n",
       "23       8:51 PM         7:44   \n",
       "24       8:51 PM         7:38   \n",
       "25       8:52 PM         7:29   \n",
       "26       8:52 PM         7:28   \n",
       "27       8:52 PM         7:19   \n",
       "28       8:52 PM         7:18   \n",
       "29       8:52 PM         7:12   \n",
       "..           ...          ...   \n",
       "441     11:08 PM         0:18   \n",
       "442     11:11 PM         0:16   \n",
       "443     11:11 PM         0:16   \n",
       "444     11:12 PM         0:16   \n",
       "445     11:13 PM         0:13   \n",
       "446     11:13 PM         0:13   \n",
       "447     11:13 PM         0:13   \n",
       "448     11:14 PM         0:13   \n",
       "449     11:14 PM         0:09   \n",
       "450     11:15 PM         0:09   \n",
       "451     11:15 PM         0:09   \n",
       "452     11:15 PM         0:09   \n",
       "453     11:15 PM         0:09   \n",
       "454     11:16 PM         0:09   \n",
       "455     11:17 PM         0:06   \n",
       "456     11:17 PM         0:06   \n",
       "457     11:18 PM         0:06   \n",
       "458     11:18 PM         0:06   \n",
       "459     11:18 PM         0:06   \n",
       "460     11:18 PM         0:06   \n",
       "461     11:20 PM         0:04   \n",
       "462     11:20 PM         0:03   \n",
       "463     11:20 PM         0:03   \n",
       "464     11:20 PM         0:02   \n",
       "465     11:20 PM         0:01   \n",
       "466     11:20 PM         0:01   \n",
       "467     11:21 PM         0:01   \n",
       "468     11:21 PM         0:01   \n",
       "469     11:21 PM         0:01   \n",
       "470     11:21 PM         0:00   \n",
       "\n",
       "                                       HOMEDESCRIPTION NEUTRALDESCRIPTION  \\\n",
       "0                                                 None               None   \n",
       "1          Jump Ball Adebayo vs. Theis: Tip to Crowder               None   \n",
       "2    Butler 8' Turnaround Fadeaway Bank Jump Shot (...               None   \n",
       "3                                                 None               None   \n",
       "4                         MISS Butler 4' Driving Layup               None   \n",
       "5                                         HEAT Rebound               None   \n",
       "6    Adebayo 10' Fadeaway Jumper (2 PTS) (Crowder 1...               None   \n",
       "7                                                 None               None   \n",
       "8                         Butler REBOUND (Off:0 Def:1)               None   \n",
       "9                  MISS Dragic 15' Step Back Jump Shot               None   \n",
       "10                                                None               None   \n",
       "11                                                None               None   \n",
       "12                       Crowder REBOUND (Off:0 Def:1)               None   \n",
       "13                 Dragic 18' Pullup Jump Shot (2 PTS)               None   \n",
       "14                                                None               None   \n",
       "15                      MISS Crowder 26' 3PT Jump Shot               None   \n",
       "16                                                None               None   \n",
       "17                                                None               None   \n",
       "18                          MISS Adebayo 18' Jump Shot               None   \n",
       "19                                                None               None   \n",
       "20                                                None               None   \n",
       "21   Butler 15' Pullup Jump Shot (4 PTS) (Adebayo 1...               None   \n",
       "22                                                None               None   \n",
       "23                                                None               None   \n",
       "24                                                None               None   \n",
       "25                     MISS Robinson 26' 3PT Jump Shot               None   \n",
       "26                                                None               None   \n",
       "27                                                None               None   \n",
       "28                        Dragic REBOUND (Off:0 Def:1)               None   \n",
       "29                        MISS Dragic 2' Running Layup               None   \n",
       "..                                                 ...                ...   \n",
       "441                                               None               None   \n",
       "442                                               None               None   \n",
       "443             HEAT Timeout: Regular (Full 6 Short 0)               None   \n",
       "444                         SUB: Robinson FOR Iguodala               None   \n",
       "445                                               None               None   \n",
       "446                   Herro Free Throw 1 of 2 (36 PTS)               None   \n",
       "447                         SUB: Iguodala FOR Robinson               None   \n",
       "448                   Herro Free Throw 2 of 2 (37 PTS)               None   \n",
       "449                   Butler S.FOUL (P2.PN) (S.Foster)               None   \n",
       "450                                               None               None   \n",
       "451                                               None               None   \n",
       "452                                               None               None   \n",
       "453             HEAT Timeout: Regular (Full 7 Short 0)               None   \n",
       "454                         SUB: Robinson FOR Iguodala               None   \n",
       "455                                               None               None   \n",
       "456                                               None               None   \n",
       "457                  Butler Free Throw 1 of 2 (22 PTS)               None   \n",
       "458                         SUB: Iguodala FOR Robinson               None   \n",
       "459                  Butler Free Throw 2 of 2 (23 PTS)               None   \n",
       "460                                               None               None   \n",
       "461                                               None               None   \n",
       "462                                               None               None   \n",
       "463                                               None               None   \n",
       "464                                               None               None   \n",
       "465                                               None               None   \n",
       "466                                               None               None   \n",
       "467                      MISS Butler Free Throw 1 of 2               None   \n",
       "468                                       HEAT Rebound               None   \n",
       "469                  Butler Free Throw 2 of 2 (24 PTS)               None   \n",
       "470                                               None               None   \n",
       "\n",
       "                                    VISITORDESCRIPTION      SCORE SCOREMARGIN  \n",
       "0                                                 None       None        None  \n",
       "1                                                 None       None        None  \n",
       "2                                                 None      0 - 2           2  \n",
       "3                     Smart 11' Jump Bank Shot (2 PTS)      2 - 2         TIE  \n",
       "4                                  Tatum BLOCK (1 BLK)       None        None  \n",
       "5                                                 None       None        None  \n",
       "6                                                 None      2 - 4           2  \n",
       "7             MISS Tatum 8' Driving Floating Jump Shot       None        None  \n",
       "8                                                 None       None        None  \n",
       "9                                                 None       None        None  \n",
       "10                         Tatum REBOUND (Off:0 Def:1)       None        None  \n",
       "11                        MISS Smart 24' 3PT Jump Shot       None        None  \n",
       "12                                                None       None        None  \n",
       "13                                                None      2 - 6           4  \n",
       "14   Brown 17' Pullup Jump Shot (2 PTS) (Walker 1 AST)      4 - 6           2  \n",
       "15                                                None       None        None  \n",
       "16                         Theis REBOUND (Off:0 Def:1)       None        None  \n",
       "17   Tatum Out of Bounds - Bad Pass Turnover Turnov...       None        None  \n",
       "18                                                None       None        None  \n",
       "19                         Tatum REBOUND (Off:0 Def:2)       None        None  \n",
       "20         Walker  3PT Jump Shot (3 PTS) (Smart 1 AST)      7 - 6          -1  \n",
       "21                                                None      7 - 8           1  \n",
       "22       Brown 24' 3PT Jump Shot (5 PTS) (Tatum 1 AST)     10 - 8          -2  \n",
       "23                     Brown P.FOUL (P1.T1) (S.Foster)       None        None  \n",
       "24                   Brown P.FOUL (P2.T2) (T.Brothers)       None        None  \n",
       "25                                                None       None        None  \n",
       "26                         Brown REBOUND (Off:0 Def:1)       None        None  \n",
       "27                        MISS Tatum 27' 3PT Jump Shot       None        None  \n",
       "28                                                None       None        None  \n",
       "29                                                None       None        None  \n",
       "..                                                 ...        ...         ...  \n",
       "441                                               None  101 - 107           6  \n",
       "442      Brown  3PT Jump Shot (21 PTS) (Hayward 3 AST)  104 - 107           3  \n",
       "443                                               None       None        None  \n",
       "444                                               None       None        None  \n",
       "445      Smart Personal Take Foul (P5.PN) (T.Brothers)       None        None  \n",
       "446                                               None  104 - 108           4  \n",
       "447                                               None       None        None  \n",
       "448                                               None  104 - 109           5  \n",
       "449                                               None       None        None  \n",
       "450                  Walker Free Throw 1 of 3 (18 PTS)  105 - 109           4  \n",
       "451                  Walker Free Throw 2 of 3 (19 PTS)  106 - 109           3  \n",
       "452                  Walker Free Throw 3 of 3 (20 PTS)  107 - 109           2  \n",
       "453                                               None       None        None  \n",
       "454                                               None       None        None  \n",
       "455      Smart Personal Take Foul (P6.PN) (T.Brothers)       None        None  \n",
       "456                               SUB: Theis FOR Smart       None        None  \n",
       "457                                               None  107 - 110           3  \n",
       "458                                               None       None        None  \n",
       "459                                               None  107 - 111           4  \n",
       "460           Celtics Timeout: Regular (Reg.7 Short 0)       None        None  \n",
       "461                      MISS Walker 26' 3PT Jump Shot       None        None  \n",
       "462                        Theis REBOUND (Off:4 Def:5)       None        None  \n",
       "463                       MISS Theis 1' Tip Layup Shot       None        None  \n",
       "464                      Hayward REBOUND (Off:2 Def:5)       None        None  \n",
       "465                 Hayward 1' Tip Layup Shot (14 PTS)  109 - 111           2  \n",
       "466       Walker Personal Take Foul (P3.PN) (S.Foster)       None        None  \n",
       "467                                               None       None        None  \n",
       "468                                               None       None        None  \n",
       "469                                               None  109 - 112           3  \n",
       "470                                               None  109 - 112           3  \n",
       "\n",
       "[471 rows x 12 columns]"
      ]
     },
     "execution_count": 177,
     "metadata": {},
     "output_type": "execute_result"
    }
   ],
   "source": [
    "from nba_api.stats.endpoints import playbyplay\n",
    "\n",
    "request = playbyplay.PlayByPlay(game_id=games_2020.GAME_ID[0])\n",
    "playbyplay_1stexe = request.get_data_frames()[0]\n",
    "\n",
    "playbyplay_1stexe"
   ]
  },
  {
   "cell_type": "markdown",
   "metadata": {},
   "source": [
    "Essa coluna traz a informação de toda a margem de vantagem, jogada por jogada"
   ]
  },
  {
   "cell_type": "code",
   "execution_count": 178,
   "metadata": {},
   "outputs": [
    {
     "data": {
      "text/plain": [
       "0     None\n",
       "1     None\n",
       "2        2\n",
       "3      TIE\n",
       "4     None\n",
       "5     None\n",
       "6        2\n",
       "7     None\n",
       "8     None\n",
       "9     None\n",
       "10    None\n",
       "11    None\n",
       "12    None\n",
       "13       4\n",
       "14       2\n",
       "Name: SCOREMARGIN, dtype: object"
      ]
     },
     "execution_count": 178,
     "metadata": {},
     "output_type": "execute_result"
    }
   ],
   "source": [
    "playbyplay_1stexe.SCOREMARGIN[0:15] # MIA vs. BOS"
   ]
  },
  {
   "cell_type": "markdown",
   "metadata": {},
   "source": [
    "Note que a informação de mando de quadra ('vs' ou '@') é bastante relevante pois ela muda o sinal da vantagem. Iremos corrigir esse pequeno problema mais pra frente"
   ]
  },
  {
   "cell_type": "code",
   "execution_count": 179,
   "metadata": {},
   "outputs": [
    {
     "data": {
      "text/plain": [
       "0     None\n",
       "1     None\n",
       "2        3\n",
       "3     None\n",
       "4     None\n",
       "5     None\n",
       "6      TIE\n",
       "7     None\n",
       "8        1\n",
       "9        2\n",
       "10      -1\n",
       "11    None\n",
       "12    None\n",
       "13    None\n",
       "14      -4\n",
       "Name: SCOREMARGIN, dtype: object"
      ]
     },
     "execution_count": 179,
     "metadata": {},
     "output_type": "execute_result"
    }
   ],
   "source": [
    "request = playbyplay.PlayByPlay(game_id=games_2020.GAME_ID[2]) # MIA @ BOS\n",
    "playbyplay_2ndexe = request.get_data_frames()[0]\n",
    "\n",
    "playbyplay_2ndexe.SCOREMARGIN[0:15]"
   ]
  },
  {
   "cell_type": "markdown",
   "metadata": {},
   "source": [
    "Uma estratégica possível para juntarmos os dois dataframes seria a criação de um loop utilizando as informações salvas nas listas acima salvando os resultados numa outra lista"
   ]
  },
  {
   "cell_type": "code",
   "execution_count": 180,
   "metadata": {},
   "outputs": [
    {
     "name": "stdout",
     "output_type": "stream",
     "text": [
      "loaded data frame 1/40\n",
      "loaded data frame 2/40\n",
      "loaded data frame 3/40\n",
      "loaded data frame 4/40\n",
      "loaded data frame 5/40\n",
      "loaded data frame 6/40\n",
      "loaded data frame 7/40\n",
      "loaded data frame 8/40\n",
      "loaded data frame 9/40\n",
      "loaded data frame 10/40\n",
      "loaded data frame 11/40\n",
      "loaded data frame 12/40\n",
      "loaded data frame 13/40\n",
      "loaded data frame 14/40\n",
      "loaded data frame 15/40\n",
      "loaded data frame 16/40\n",
      "loaded data frame 17/40\n",
      "loaded data frame 18/40\n",
      "loaded data frame 19/40\n",
      "loaded data frame 20/40\n",
      "loaded data frame 21/40\n",
      "loaded data frame 22/40\n",
      "loaded data frame 23/40\n",
      "loaded data frame 24/40\n",
      "loaded data frame 25/40\n",
      "loaded data frame 26/40\n",
      "loaded data frame 27/40\n",
      "loaded data frame 28/40\n",
      "loaded data frame 29/40\n",
      "loaded data frame 30/40\n",
      "loaded data frame 31/40\n",
      "loaded data frame 32/40\n",
      "loaded data frame 33/40\n",
      "loaded data frame 34/40\n",
      "loaded data frame 35/40\n",
      "loaded data frame 36/40\n",
      "loaded data frame 37/40\n",
      "loaded data frame 38/40\n",
      "loaded data frame 39/40\n",
      "loaded data frame 40/40\n"
     ]
    }
   ],
   "source": [
    "list_ids = []\n",
    "list_values = []\n",
    "\n",
    "for i in range(40):\n",
    "\n",
    "    request = playbyplay.PlayByPlay(game_id=allgames[i])\n",
    "\n",
    "    playbyplay_df = request.get_data_frames()[0]\n",
    "    \n",
    "    print('loaded data frame '+str(i+1)+'/40')\n",
    "    \n",
    "    list_ids.append(allgames[i])\n",
    "    \n",
    "    for x in range(1, 21):\n",
    "        \n",
    "        value_home = playbyplay_df.SCOREMARGIN.loc[playbyplay_df.SCOREMARGIN == str(x)].count()\n",
    "        value_away = playbyplay_df.SCOREMARGIN.loc[playbyplay_df.SCOREMARGIN == str((x*-1))].count()\n",
    "        \n",
    "        if matchups[i].find('@') > 0:\n",
    "            \n",
    "            list_values.append(value_away)\n",
    "        \n",
    "        else:\n",
    "            \n",
    "            list_values.append(value_home)"
   ]
  },
  {
   "cell_type": "markdown",
   "metadata": {},
   "source": [
    "Vale a pena comentar que em algumas tentativas de coletar muitos dataframes de uma vez, eu me deparei com erros de timeout. Podemos otimizar bastante a forma de puxar esses dados mas para esse exemplo, defini um limite de 40 jogos, que acredito ser uma amostra interessante"
   ]
  },
  {
   "cell_type": "markdown",
   "metadata": {},
   "source": [
    "Feito isso, podemos montar um segundo dataframe auxiliar"
   ]
  },
  {
   "cell_type": "code",
   "execution_count": 181,
   "metadata": {},
   "outputs": [
    {
     "data": {
      "text/html": [
       "<div>\n",
       "<style scoped>\n",
       "    .dataframe tbody tr th:only-of-type {\n",
       "        vertical-align: middle;\n",
       "    }\n",
       "\n",
       "    .dataframe tbody tr th {\n",
       "        vertical-align: top;\n",
       "    }\n",
       "\n",
       "    .dataframe thead th {\n",
       "        text-align: right;\n",
       "    }\n",
       "</style>\n",
       "<table border=\"1\" class=\"dataframe\">\n",
       "  <thead>\n",
       "    <tr style=\"text-align: right;\">\n",
       "      <th></th>\n",
       "      <th>pt1</th>\n",
       "      <th>pt2</th>\n",
       "      <th>pt3</th>\n",
       "      <th>pt4</th>\n",
       "      <th>pt5</th>\n",
       "      <th>pt6</th>\n",
       "      <th>pt7</th>\n",
       "      <th>pt8</th>\n",
       "      <th>pt9</th>\n",
       "      <th>pt10</th>\n",
       "      <th>...</th>\n",
       "      <th>pt12</th>\n",
       "      <th>pt13</th>\n",
       "      <th>pt14</th>\n",
       "      <th>pt15</th>\n",
       "      <th>pt16</th>\n",
       "      <th>pt17</th>\n",
       "      <th>pt18</th>\n",
       "      <th>pt19</th>\n",
       "      <th>pt20</th>\n",
       "      <th>GAME_ID</th>\n",
       "    </tr>\n",
       "  </thead>\n",
       "  <tbody>\n",
       "    <tr>\n",
       "      <th>0</th>\n",
       "      <td>16</td>\n",
       "      <td>20</td>\n",
       "      <td>18</td>\n",
       "      <td>16</td>\n",
       "      <td>10</td>\n",
       "      <td>14</td>\n",
       "      <td>7</td>\n",
       "      <td>8</td>\n",
       "      <td>4</td>\n",
       "      <td>2</td>\n",
       "      <td>...</td>\n",
       "      <td>2</td>\n",
       "      <td>0</td>\n",
       "      <td>0</td>\n",
       "      <td>0</td>\n",
       "      <td>0</td>\n",
       "      <td>0</td>\n",
       "      <td>0</td>\n",
       "      <td>0</td>\n",
       "      <td>0</td>\n",
       "      <td>0041900304</td>\n",
       "    </tr>\n",
       "    <tr>\n",
       "      <th>0</th>\n",
       "      <td>0</td>\n",
       "      <td>0</td>\n",
       "      <td>0</td>\n",
       "      <td>0</td>\n",
       "      <td>0</td>\n",
       "      <td>0</td>\n",
       "      <td>0</td>\n",
       "      <td>0</td>\n",
       "      <td>0</td>\n",
       "      <td>0</td>\n",
       "      <td>...</td>\n",
       "      <td>0</td>\n",
       "      <td>0</td>\n",
       "      <td>0</td>\n",
       "      <td>0</td>\n",
       "      <td>0</td>\n",
       "      <td>0</td>\n",
       "      <td>0</td>\n",
       "      <td>0</td>\n",
       "      <td>0</td>\n",
       "      <td>0041900303</td>\n",
       "    </tr>\n",
       "    <tr>\n",
       "      <th>0</th>\n",
       "      <td>9</td>\n",
       "      <td>6</td>\n",
       "      <td>6</td>\n",
       "      <td>3</td>\n",
       "      <td>8</td>\n",
       "      <td>3</td>\n",
       "      <td>6</td>\n",
       "      <td>2</td>\n",
       "      <td>0</td>\n",
       "      <td>0</td>\n",
       "      <td>...</td>\n",
       "      <td>0</td>\n",
       "      <td>0</td>\n",
       "      <td>0</td>\n",
       "      <td>0</td>\n",
       "      <td>0</td>\n",
       "      <td>0</td>\n",
       "      <td>0</td>\n",
       "      <td>0</td>\n",
       "      <td>0</td>\n",
       "      <td>0041900302</td>\n",
       "    </tr>\n",
       "    <tr>\n",
       "      <th>0</th>\n",
       "      <td>8</td>\n",
       "      <td>5</td>\n",
       "      <td>8</td>\n",
       "      <td>0</td>\n",
       "      <td>3</td>\n",
       "      <td>1</td>\n",
       "      <td>0</td>\n",
       "      <td>0</td>\n",
       "      <td>0</td>\n",
       "      <td>0</td>\n",
       "      <td>...</td>\n",
       "      <td>0</td>\n",
       "      <td>0</td>\n",
       "      <td>0</td>\n",
       "      <td>0</td>\n",
       "      <td>0</td>\n",
       "      <td>0</td>\n",
       "      <td>0</td>\n",
       "      <td>0</td>\n",
       "      <td>0</td>\n",
       "      <td>0041900301</td>\n",
       "    </tr>\n",
       "    <tr>\n",
       "      <th>0</th>\n",
       "      <td>2</td>\n",
       "      <td>2</td>\n",
       "      <td>6</td>\n",
       "      <td>5</td>\n",
       "      <td>13</td>\n",
       "      <td>12</td>\n",
       "      <td>16</td>\n",
       "      <td>14</td>\n",
       "      <td>8</td>\n",
       "      <td>2</td>\n",
       "      <td>...</td>\n",
       "      <td>1</td>\n",
       "      <td>0</td>\n",
       "      <td>0</td>\n",
       "      <td>0</td>\n",
       "      <td>0</td>\n",
       "      <td>0</td>\n",
       "      <td>0</td>\n",
       "      <td>0</td>\n",
       "      <td>0</td>\n",
       "      <td>0041900205</td>\n",
       "    </tr>\n",
       "  </tbody>\n",
       "</table>\n",
       "<p>5 rows × 21 columns</p>\n",
       "</div>"
      ],
      "text/plain": [
       "   pt1  pt2  pt3  pt4  pt5  pt6  pt7  pt8  pt9  pt10  ...  pt12  pt13  pt14  \\\n",
       "0   16   20   18   16   10   14    7    8    4     2  ...     2     0     0   \n",
       "0    0    0    0    0    0    0    0    0    0     0  ...     0     0     0   \n",
       "0    9    6    6    3    8    3    6    2    0     0  ...     0     0     0   \n",
       "0    8    5    8    0    3    1    0    0    0     0  ...     0     0     0   \n",
       "0    2    2    6    5   13   12   16   14    8     2  ...     1     0     0   \n",
       "\n",
       "   pt15  pt16  pt17  pt18  pt19  pt20     GAME_ID  \n",
       "0     0     0     0     0     0     0  0041900304  \n",
       "0     0     0     0     0     0     0  0041900303  \n",
       "0     0     0     0     0     0     0  0041900302  \n",
       "0     0     0     0     0     0     0  0041900301  \n",
       "0     0     0     0     0     0     0  0041900205  \n",
       "\n",
       "[5 rows x 21 columns]"
      ]
     },
     "execution_count": 181,
     "metadata": {},
     "output_type": "execute_result"
    }
   ],
   "source": [
    "import numpy as np\n",
    "import pandas as pd\n",
    "\n",
    "df_margin_score = pd.DataFrame()\n",
    "\n",
    "list_split = np.array_split(list_values, len(list_ids))\n",
    "for array in list_split:\n",
    "    df_margin_score = df_margin_score.append([array])\n",
    "    \n",
    "df_margin_score.columns = ['pt1','pt2','pt3','pt4','pt5','pt6','pt7','pt8','pt9','pt10',\n",
    "                           'pt11','pt12','pt13','pt14','pt15','pt16','pt17','pt18','pt19','pt20']\n",
    "\n",
    "df_margin_score['GAME_ID'] = allgames[0:40]\n",
    "\n",
    "df_margin_score.head()"
   ]
  },
  {
   "cell_type": "markdown",
   "metadata": {},
   "source": [
    "Que podemos dar \"merge\" com nosso dataframe original"
   ]
  },
  {
   "cell_type": "code",
   "execution_count": 182,
   "metadata": {},
   "outputs": [
    {
     "data": {
      "text/html": [
       "<div>\n",
       "<style scoped>\n",
       "    .dataframe tbody tr th:only-of-type {\n",
       "        vertical-align: middle;\n",
       "    }\n",
       "\n",
       "    .dataframe tbody tr th {\n",
       "        vertical-align: top;\n",
       "    }\n",
       "\n",
       "    .dataframe thead th {\n",
       "        text-align: right;\n",
       "    }\n",
       "</style>\n",
       "<table border=\"1\" class=\"dataframe\">\n",
       "  <thead>\n",
       "    <tr style=\"text-align: right;\">\n",
       "      <th></th>\n",
       "      <th>SEASON_ID</th>\n",
       "      <th>TEAM_ID</th>\n",
       "      <th>TEAM_ABBREVIATION</th>\n",
       "      <th>TEAM_NAME</th>\n",
       "      <th>GAME_ID</th>\n",
       "      <th>GAME_DATE</th>\n",
       "      <th>MATCHUP</th>\n",
       "      <th>WL</th>\n",
       "      <th>MIN</th>\n",
       "      <th>PTS</th>\n",
       "      <th>...</th>\n",
       "      <th>pt11</th>\n",
       "      <th>pt12</th>\n",
       "      <th>pt13</th>\n",
       "      <th>pt14</th>\n",
       "      <th>pt15</th>\n",
       "      <th>pt16</th>\n",
       "      <th>pt17</th>\n",
       "      <th>pt18</th>\n",
       "      <th>pt19</th>\n",
       "      <th>pt20</th>\n",
       "    </tr>\n",
       "  </thead>\n",
       "  <tbody>\n",
       "    <tr>\n",
       "      <th>0</th>\n",
       "      <td>42019</td>\n",
       "      <td>1610612748</td>\n",
       "      <td>MIA</td>\n",
       "      <td>Miami Heat</td>\n",
       "      <td>0041900304</td>\n",
       "      <td>2020-09-23</td>\n",
       "      <td>MIA vs. BOS</td>\n",
       "      <td>W</td>\n",
       "      <td>240</td>\n",
       "      <td>112</td>\n",
       "      <td>...</td>\n",
       "      <td>1</td>\n",
       "      <td>2</td>\n",
       "      <td>0</td>\n",
       "      <td>0</td>\n",
       "      <td>0</td>\n",
       "      <td>0</td>\n",
       "      <td>0</td>\n",
       "      <td>0</td>\n",
       "      <td>0</td>\n",
       "      <td>0</td>\n",
       "    </tr>\n",
       "    <tr>\n",
       "      <th>1</th>\n",
       "      <td>42019</td>\n",
       "      <td>1610612748</td>\n",
       "      <td>MIA</td>\n",
       "      <td>Miami Heat</td>\n",
       "      <td>0041900303</td>\n",
       "      <td>2020-09-19</td>\n",
       "      <td>MIA vs. BOS</td>\n",
       "      <td>L</td>\n",
       "      <td>239</td>\n",
       "      <td>106</td>\n",
       "      <td>...</td>\n",
       "      <td>0</td>\n",
       "      <td>0</td>\n",
       "      <td>0</td>\n",
       "      <td>0</td>\n",
       "      <td>0</td>\n",
       "      <td>0</td>\n",
       "      <td>0</td>\n",
       "      <td>0</td>\n",
       "      <td>0</td>\n",
       "      <td>0</td>\n",
       "    </tr>\n",
       "    <tr>\n",
       "      <th>2</th>\n",
       "      <td>42019</td>\n",
       "      <td>1610612748</td>\n",
       "      <td>MIA</td>\n",
       "      <td>Miami Heat</td>\n",
       "      <td>0041900302</td>\n",
       "      <td>2020-09-17</td>\n",
       "      <td>MIA @ BOS</td>\n",
       "      <td>W</td>\n",
       "      <td>238</td>\n",
       "      <td>106</td>\n",
       "      <td>...</td>\n",
       "      <td>0</td>\n",
       "      <td>0</td>\n",
       "      <td>0</td>\n",
       "      <td>0</td>\n",
       "      <td>0</td>\n",
       "      <td>0</td>\n",
       "      <td>0</td>\n",
       "      <td>0</td>\n",
       "      <td>0</td>\n",
       "      <td>0</td>\n",
       "    </tr>\n",
       "    <tr>\n",
       "      <th>3</th>\n",
       "      <td>42019</td>\n",
       "      <td>1610612748</td>\n",
       "      <td>MIA</td>\n",
       "      <td>Miami Heat</td>\n",
       "      <td>0041900301</td>\n",
       "      <td>2020-09-15</td>\n",
       "      <td>MIA @ BOS</td>\n",
       "      <td>W</td>\n",
       "      <td>265</td>\n",
       "      <td>117</td>\n",
       "      <td>...</td>\n",
       "      <td>0</td>\n",
       "      <td>0</td>\n",
       "      <td>0</td>\n",
       "      <td>0</td>\n",
       "      <td>0</td>\n",
       "      <td>0</td>\n",
       "      <td>0</td>\n",
       "      <td>0</td>\n",
       "      <td>0</td>\n",
       "      <td>0</td>\n",
       "    </tr>\n",
       "    <tr>\n",
       "      <th>4</th>\n",
       "      <td>42019</td>\n",
       "      <td>1610612748</td>\n",
       "      <td>MIA</td>\n",
       "      <td>Miami Heat</td>\n",
       "      <td>0041900205</td>\n",
       "      <td>2020-09-08</td>\n",
       "      <td>MIA @ MIL</td>\n",
       "      <td>W</td>\n",
       "      <td>241</td>\n",
       "      <td>103</td>\n",
       "      <td>...</td>\n",
       "      <td>1</td>\n",
       "      <td>1</td>\n",
       "      <td>0</td>\n",
       "      <td>0</td>\n",
       "      <td>0</td>\n",
       "      <td>0</td>\n",
       "      <td>0</td>\n",
       "      <td>0</td>\n",
       "      <td>0</td>\n",
       "      <td>0</td>\n",
       "    </tr>\n",
       "  </tbody>\n",
       "</table>\n",
       "<p>5 rows × 48 columns</p>\n",
       "</div>"
      ],
      "text/plain": [
       "  SEASON_ID     TEAM_ID TEAM_ABBREVIATION   TEAM_NAME     GAME_ID   GAME_DATE  \\\n",
       "0     42019  1610612748               MIA  Miami Heat  0041900304  2020-09-23   \n",
       "1     42019  1610612748               MIA  Miami Heat  0041900303  2020-09-19   \n",
       "2     42019  1610612748               MIA  Miami Heat  0041900302  2020-09-17   \n",
       "3     42019  1610612748               MIA  Miami Heat  0041900301  2020-09-15   \n",
       "4     42019  1610612748               MIA  Miami Heat  0041900205  2020-09-08   \n",
       "\n",
       "       MATCHUP WL  MIN  PTS  ...  pt11  pt12  pt13  pt14  pt15  pt16  pt17  \\\n",
       "0  MIA vs. BOS  W  240  112  ...     1     2     0     0     0     0     0   \n",
       "1  MIA vs. BOS  L  239  106  ...     0     0     0     0     0     0     0   \n",
       "2    MIA @ BOS  W  238  106  ...     0     0     0     0     0     0     0   \n",
       "3    MIA @ BOS  W  265  117  ...     0     0     0     0     0     0     0   \n",
       "4    MIA @ MIL  W  241  103  ...     1     1     0     0     0     0     0   \n",
       "\n",
       "   pt18  pt19  pt20  \n",
       "0     0     0     0  \n",
       "1     0     0     0  \n",
       "2     0     0     0  \n",
       "3     0     0     0  \n",
       "4     0     0     0  \n",
       "\n",
       "[5 rows x 48 columns]"
      ]
     },
     "execution_count": 182,
     "metadata": {},
     "output_type": "execute_result"
    }
   ],
   "source": [
    "games_merged = pd.merge(games_2020,df_margin_score, on='GAME_ID')\n",
    "games_merged.head()"
   ]
  },
  {
   "cell_type": "markdown",
   "metadata": {},
   "source": [
    "Agora que temos os dados numa base única, podemos começar algumas análises. Vamos observar primeiro o W-L% geral:"
   ]
  },
  {
   "cell_type": "code",
   "execution_count": 183,
   "metadata": {},
   "outputs": [
    {
     "data": {
      "text/plain": [
       "0.575"
      ]
     },
     "execution_count": 183,
     "metadata": {},
     "output_type": "execute_result"
    }
   ],
   "source": [
    "win_pct1 = games_merged.loc[(games_merged.WL == 'W')].count()\n",
    "win_pct2 = games_merged.loc[(games_merged.WL == 'L')].count()\n",
    "\n",
    "win_pct = win_pct1.WL/(win_pct1.WL+win_pct2.WL)\n",
    "win_pct"
   ]
  },
  {
   "cell_type": "markdown",
   "metadata": {},
   "source": [
    "Para termos essa mesma informação discriminada por margem de vantagem, teremos que filtrar o dataframe da seguinte maneira e salvarmos o resultado em outra lista"
   ]
  },
  {
   "cell_type": "code",
   "execution_count": 184,
   "metadata": {},
   "outputs": [],
   "source": [
    "winpct_per_margin = []\n",
    "for i in range(28,48):\n",
    "    \n",
    "    df_temp = games_merged.loc[(games_merged.iloc[:, i]>0)]\n",
    "\n",
    "    win_pct_temp = (df_temp.loc[(games_merged.WL == 'W')].count()) / ((df_temp.loc[(games_merged.WL == 'W')].count())+\n",
    "                                                                         (df_temp.loc[(games_merged.WL == 'L')].count()))\n",
    "    winpct_per_margin.append(win_pct_temp[0])       "
   ]
  },
  {
   "cell_type": "markdown",
   "metadata": {},
   "source": [
    "Para visualizar o resultado, podemos criar outro df e gerar um gráfico de linha:"
   ]
  },
  {
   "cell_type": "code",
   "execution_count": 188,
   "metadata": {},
   "outputs": [
    {
     "data": {
      "text/plain": [
       "<matplotlib.axes._subplots.AxesSubplot at 0x1427db50>"
      ]
     },
     "execution_count": 188,
     "metadata": {},
     "output_type": "execute_result"
    },
    {
     "data": {
      "image/png": "[encoded data removed]",
      "text/plain": [
       "<Figure size 1080x504 with 1 Axes>"
      ]
     },
     "metadata": {
      "needs_background": "light"
     },
     "output_type": "display_data"
    }
   ],
   "source": [
    "graph_df = pd.DataFrame()\n",
    "graph_df['Margin_Score'] = ['pt1','pt2','pt3','pt4','pt5','pt6','pt7','pt8','pt9','pt10',\n",
    "                           'pt11','pt12','pt13','pt14','pt15','pt16','pt17','pt18','pt19','pt20']\n",
    "\n",
    "graph_df['Win_Pct'] = winpct_per_margin\n",
    "\n",
    "graph_df['Win_Avg'] = win_pct\n",
    "\n",
    "graph_df.plot.line(figsize=(15,7))"
   ]
  },
  {
   "cell_type": "markdown",
   "metadata": {},
   "source": [
    "Outra opção um pouco mais charmosa, seria utilizarmos a lib do [Ploty](https://plotly.com/python/)"
   ]
  },
  {
   "cell_type": "code",
   "execution_count": 186,
   "metadata": {},
   "outputs": [
    {
     "data": {
      "application/vnd.plotly.v1+json": {
       "config": {
        "plotlyServerURL": "https://plot.ly"
       },
       "data": [
        {
         "hovertemplate": "Margin_Score=%{x}<br>Win_Pct=%{y}<extra></extra>",
         "legendgroup": "",
         "line": {
          "color": "#636efa",
          "dash": "solid"
         },
         "mode": "lines",
         "name": "",
         "orientation": "v",
         "showlegend": false,
         "type": "scatter",
         "x": [
          "pt1",
          "pt2",
          "pt3",
          "pt4",
          "pt5",
          "pt6",
          "pt7",
          "pt8",
          "pt9",
          "pt10",
          "pt11",
          "pt12",
          "pt13",
          "pt14",
          "pt15",
          "pt16",
          "pt17",
          "pt18",
          "pt19",
          "pt20"
         ],
         "xaxis": "x",
         "y": [
          0.5789473684210527,
          0.6388888888888888,
          0.6111111111111112,
          0.6875,
          0.696969696969697,
          0.6875,
          0.6875,
          0.6875,
          0.6774193548387096,
          0.7142857142857143,
          0.7241379310344828,
          0.7407407407407407,
          0.8,
          0.8235294117647058,
          0.7142857142857143,
          0.6923076923076923,
          0.6363636363636364,
          0.6666666666666666,
          0.5555555555555556,
          0.6
         ],
         "yaxis": "y"
        }
       ],
       "layout": {
        "legend": {
         "tracegroupgap": 0
        },
        "template": {
         "data": {
          "bar": [
           {
            "error_x": {
             "color": "#2a3f5f"
            },
            "error_y": {
             "color": "#2a3f5f"
            },
            "marker": {
             "line": {
              "color": "#E5ECF6",
              "width": 0.5
             }
            },
            "type": "bar"
           }
          ],
          "barpolar": [
           {
            "marker": {
             "line": {
              "color": "#E5ECF6",
              "width": 0.5
             }
            },
            "type": "barpolar"
           }
          ],
          "carpet": [
           {
            "aaxis": {
             "endlinecolor": "#2a3f5f",
             "gridcolor": "white",
             "linecolor": "white",
             "minorgridcolor": "white",
             "startlinecolor": "#2a3f5f"
            },
            "baxis": {
             "endlinecolor": "#2a3f5f",
             "gridcolor": "white",
             "linecolor": "white",
             "minorgridcolor": "white",
             "startlinecolor": "#2a3f5f"
            },
            "type": "carpet"
           }
          ],
          "choropleth": [
           {
            "colorbar": {
             "outlinewidth": 0,
             "ticks": ""
            },
            "type": "choropleth"
           }
          ],
          "contour": [
           {
            "colorbar": {
             "outlinewidth": 0,
             "ticks": ""
            },
            "colorscale": [
             [
              0,
              "#0d0887"
             ],
             [
              0.1111111111111111,
              "#46039f"
             ],
             [
              0.2222222222222222,
              "#7201a8"
             ],
             [
              0.3333333333333333,
              "#9c179e"
             ],
             [
              0.4444444444444444,
              "#bd3786"
             ],
             [
              0.5555555555555556,
              "#d8576b"
             ],
             [
              0.6666666666666666,
              "#ed7953"
             ],
             [
              0.7777777777777778,
              "#fb9f3a"
             ],
             [
              0.8888888888888888,
              "#fdca26"
             ],
             [
              1,
              "#f0f921"
             ]
            ],
            "type": "contour"
           }
          ],
          "contourcarpet": [
           {
            "colorbar": {
             "outlinewidth": 0,
             "ticks": ""
            },
            "type": "contourcarpet"
           }
          ],
          "heatmap": [
           {
            "colorbar": {
             "outlinewidth": 0,
             "ticks": ""
            },
            "colorscale": [
             [
              0,
              "#0d0887"
             ],
             [
              0.1111111111111111,
              "#46039f"
             ],
             [
              0.2222222222222222,
              "#7201a8"
             ],
             [
              0.3333333333333333,
              "#9c179e"
             ],
             [
              0.4444444444444444,
              "#bd3786"
             ],
             [
              0.5555555555555556,
              "#d8576b"
             ],
             [
              0.6666666666666666,
              "#ed7953"
             ],
             [
              0.7777777777777778,
              "#fb9f3a"
             ],
             [
              0.8888888888888888,
              "#fdca26"
             ],
             [
              1,
              "#f0f921"
             ]
            ],
            "type": "heatmap"
           }
          ],
          "heatmapgl": [
           {
            "colorbar": {
             "outlinewidth": 0,
             "ticks": ""
            },
            "colorscale": [
             [
              0,
              "#0d0887"
             ],
             [
              0.1111111111111111,
              "#46039f"
             ],
             [
              0.2222222222222222,
              "#7201a8"
             ],
             [
              0.3333333333333333,
              "#9c179e"
             ],
             [
              0.4444444444444444,
              "#bd3786"
             ],
             [
              0.5555555555555556,
              "#d8576b"
             ],
             [
              0.6666666666666666,
              "#ed7953"
             ],
             [
              0.7777777777777778,
              "#fb9f3a"
             ],
             [
              0.8888888888888888,
              "#fdca26"
             ],
             [
              1,
              "#f0f921"
             ]
            ],
            "type": "heatmapgl"
           }
          ],
          "histogram": [
           {
            "marker": {
             "colorbar": {
              "outlinewidth": 0,
              "ticks": ""
             }
            },
            "type": "histogram"
           }
          ],
          "histogram2d": [
           {
            "colorbar": {
             "outlinewidth": 0,
             "ticks": ""
            },
            "colorscale": [
             [
              0,
              "#0d0887"
             ],
             [
              0.1111111111111111,
              "#46039f"
             ],
             [
              0.2222222222222222,
              "#7201a8"
             ],
             [
              0.3333333333333333,
              "#9c179e"
             ],
             [
              0.4444444444444444,
              "#bd3786"
             ],
             [
              0.5555555555555556,
              "#d8576b"
             ],
             [
              0.6666666666666666,
              "#ed7953"
             ],
             [
              0.7777777777777778,
              "#fb9f3a"
             ],
             [
              0.8888888888888888,
              "#fdca26"
             ],
             [
              1,
              "#f0f921"
             ]
            ],
            "type": "histogram2d"
           }
          ],
          "histogram2dcontour": [
           {
            "colorbar": {
             "outlinewidth": 0,
             "ticks": ""
            },
            "colorscale": [
             [
              0,
              "#0d0887"
             ],
             [
              0.1111111111111111,
              "#46039f"
             ],
             [
              0.2222222222222222,
              "#7201a8"
             ],
             [
              0.3333333333333333,
              "#9c179e"
             ],
             [
              0.4444444444444444,
              "#bd3786"
             ],
             [
              0.5555555555555556,
              "#d8576b"
             ],
             [
              0.6666666666666666,
              "#ed7953"
             ],
             [
              0.7777777777777778,
              "#fb9f3a"
             ],
             [
              0.8888888888888888,
              "#fdca26"
             ],
             [
              1,
              "#f0f921"
             ]
            ],
            "type": "histogram2dcontour"
           }
          ],
          "mesh3d": [
           {
            "colorbar": {
             "outlinewidth": 0,
             "ticks": ""
            },
            "type": "mesh3d"
           }
          ],
          "parcoords": [
           {
            "line": {
             "colorbar": {
              "outlinewidth": 0,
              "ticks": ""
             }
            },
            "type": "parcoords"
           }
          ],
          "pie": [
           {
            "automargin": true,
            "type": "pie"
           }
          ],
          "scatter": [
           {
            "marker": {
             "colorbar": {
              "outlinewidth": 0,
              "ticks": ""
             }
            },
            "type": "scatter"
           }
          ],
          "scatter3d": [
           {
            "line": {
             "colorbar": {
              "outlinewidth": 0,
              "ticks": ""
             }
            },
            "marker": {
             "colorbar": {
              "outlinewidth": 0,
              "ticks": ""
             }
            },
            "type": "scatter3d"
           }
          ],
          "scattercarpet": [
           {
            "marker": {
             "colorbar": {
              "outlinewidth": 0,
              "ticks": ""
             }
            },
            "type": "scattercarpet"
           }
          ],
          "scattergeo": [
           {
            "marker": {
             "colorbar": {
              "outlinewidth": 0,
              "ticks": ""
             }
            },
            "type": "scattergeo"
           }
          ],
          "scattergl": [
           {
            "marker": {
             "colorbar": {
              "outlinewidth": 0,
              "ticks": ""
             }
            },
            "type": "scattergl"
           }
          ],
          "scattermapbox": [
           {
            "marker": {
             "colorbar": {
              "outlinewidth": 0,
              "ticks": ""
             }
            },
            "type": "scattermapbox"
           }
          ],
          "scatterpolar": [
           {
            "marker": {
             "colorbar": {
              "outlinewidth": 0,
              "ticks": ""
             }
            },
            "type": "scatterpolar"
           }
          ],
          "scatterpolargl": [
           {
            "marker": {
             "colorbar": {
              "outlinewidth": 0,
              "ticks": ""
             }
            },
            "type": "scatterpolargl"
           }
          ],
          "scatterternary": [
           {
            "marker": {
             "colorbar": {
              "outlinewidth": 0,
              "ticks": ""
             }
            },
            "type": "scatterternary"
           }
          ],
          "surface": [
           {
            "colorbar": {
             "outlinewidth": 0,
             "ticks": ""
            },
            "colorscale": [
             [
              0,
              "#0d0887"
             ],
             [
              0.1111111111111111,
              "#46039f"
             ],
             [
              0.2222222222222222,
              "#7201a8"
             ],
             [
              0.3333333333333333,
              "#9c179e"
             ],
             [
              0.4444444444444444,
              "#bd3786"
             ],
             [
              0.5555555555555556,
              "#d8576b"
             ],
             [
              0.6666666666666666,
              "#ed7953"
             ],
             [
              0.7777777777777778,
              "#fb9f3a"
             ],
             [
              0.8888888888888888,
              "#fdca26"
             ],
             [
              1,
              "#f0f921"
             ]
            ],
            "type": "surface"
           }
          ],
          "table": [
           {
            "cells": {
             "fill": {
              "color": "#EBF0F8"
             },
             "line": {
              "color": "white"
             }
            },
            "header": {
             "fill": {
              "color": "#C8D4E3"
             },
             "line": {
              "color": "white"
             }
            },
            "type": "table"
           }
          ]
         },
         "layout": {
          "annotationdefaults": {
           "arrowcolor": "#2a3f5f",
           "arrowhead": 0,
           "arrowwidth": 1
          },
          "coloraxis": {
           "colorbar": {
            "outlinewidth": 0,
            "ticks": ""
           }
          },
          "colorscale": {
           "diverging": [
            [
             0,
             "#8e0152"
            ],
            [
             0.1,
             "#c51b7d"
            ],
            [
             0.2,
             "#de77ae"
            ],
            [
             0.3,
             "#f1b6da"
            ],
            [
             0.4,
             "#fde0ef"
            ],
            [
             0.5,
             "#f7f7f7"
            ],
            [
             0.6,
             "#e6f5d0"
            ],
            [
             0.7,
             "#b8e186"
            ],
            [
             0.8,
             "#7fbc41"
            ],
            [
             0.9,
             "#4d9221"
            ],
            [
             1,
             "#276419"
            ]
           ],
           "sequential": [
            [
             0,
             "#0d0887"
            ],
            [
             0.1111111111111111,
             "#46039f"
            ],
            [
             0.2222222222222222,
             "#7201a8"
            ],
            [
             0.3333333333333333,
             "#9c179e"
            ],
            [
             0.4444444444444444,
             "#bd3786"
            ],
            [
             0.5555555555555556,
             "#d8576b"
            ],
            [
             0.6666666666666666,
             "#ed7953"
            ],
            [
             0.7777777777777778,
             "#fb9f3a"
            ],
            [
             0.8888888888888888,
             "#fdca26"
            ],
            [
             1,
             "#f0f921"
            ]
           ],
           "sequentialminus": [
            [
             0,
             "#0d0887"
            ],
            [
             0.1111111111111111,
             "#46039f"
            ],
            [
             0.2222222222222222,
             "#7201a8"
            ],
            [
             0.3333333333333333,
             "#9c179e"
            ],
            [
             0.4444444444444444,
             "#bd3786"
            ],
            [
             0.5555555555555556,
             "#d8576b"
            ],
            [
             0.6666666666666666,
             "#ed7953"
            ],
            [
             0.7777777777777778,
             "#fb9f3a"
            ],
            [
             0.8888888888888888,
             "#fdca26"
            ],
            [
             1,
             "#f0f921"
            ]
           ]
          },
          "colorway": [
           "#636efa",
           "#EF553B",
           "#00cc96",
           "#ab63fa",
           "#FFA15A",
           "#19d3f3",
           "#FF6692",
           "#B6E880",
           "#FF97FF",
           "#FECB52"
          ],
          "font": {
           "color": "#2a3f5f"
          },
          "geo": {
           "bgcolor": "white",
           "lakecolor": "white",
           "landcolor": "#E5ECF6",
           "showlakes": true,
           "showland": true,
           "subunitcolor": "white"
          },
          "hoverlabel": {
           "align": "left"
          },
          "hovermode": "closest",
          "mapbox": {
           "style": "light"
          },
          "paper_bgcolor": "white",
          "plot_bgcolor": "#E5ECF6",
          "polar": {
           "angularaxis": {
            "gridcolor": "white",
            "linecolor": "white",
            "ticks": ""
           },
           "bgcolor": "#E5ECF6",
           "radialaxis": {
            "gridcolor": "white",
            "linecolor": "white",
            "ticks": ""
           }
          },
          "scene": {
           "xaxis": {
            "backgroundcolor": "#E5ECF6",
            "gridcolor": "white",
            "gridwidth": 2,
            "linecolor": "white",
            "showbackground": true,
            "ticks": "",
            "zerolinecolor": "white"
           },
           "yaxis": {
            "backgroundcolor": "#E5ECF6",
            "gridcolor": "white",
            "gridwidth": 2,
            "linecolor": "white",
            "showbackground": true,
            "ticks": "",
            "zerolinecolor": "white"
           },
           "zaxis": {
            "backgroundcolor": "#E5ECF6",
            "gridcolor": "white",
            "gridwidth": 2,
            "linecolor": "white",
            "showbackground": true,
            "ticks": "",
            "zerolinecolor": "white"
           }
          },
          "shapedefaults": {
           "line": {
            "color": "#2a3f5f"
           }
          },
          "ternary": {
           "aaxis": {
            "gridcolor": "white",
            "linecolor": "white",
            "ticks": ""
           },
           "baxis": {
            "gridcolor": "white",
            "linecolor": "white",
            "ticks": ""
           },
           "bgcolor": "#E5ECF6",
           "caxis": {
            "gridcolor": "white",
            "linecolor": "white",
            "ticks": ""
           }
          },
          "title": {
           "x": 0.05
          },
          "xaxis": {
           "automargin": true,
           "gridcolor": "white",
           "linecolor": "white",
           "ticks": "",
           "title": {
            "standoff": 15
           },
           "zerolinecolor": "white",
           "zerolinewidth": 2
          },
          "yaxis": {
           "automargin": true,
           "gridcolor": "white",
           "linecolor": "white",
           "ticks": "",
           "title": {
            "standoff": 15
           },
           "zerolinecolor": "white",
           "zerolinewidth": 2
          }
         }
        },
        "title": {
         "text": "Win % by Margin of Score"
        },
        "xaxis": {
         "anchor": "y",
         "domain": [
          0,
          1
         ],
         "title": {
          "text": "Margin_Score"
         }
        },
        "yaxis": {
         "anchor": "x",
         "domain": [
          0,
          1
         ],
         "title": {
          "text": "Win_Pct"
         }
        }
       }
      },
      "text/html": [
       "<div>                            <div id=\"9180fa6b-b464-44f0-b7cf-23899799f668\" class=\"plotly-graph-div\" style=\"height:525px; width:100%;\"></div>            <script type=\"text/javascript\">                require([\"plotly\"], function(Plotly) {                    window.PLOTLYENV=window.PLOTLYENV || {};                                    if (document.getElementById(\"9180fa6b-b464-44f0-b7cf-23899799f668\")) {                    Plotly.newPlot(                        \"9180fa6b-b464-44f0-b7cf-23899799f668\",                        [{\"hovertemplate\": \"Margin_Score=%{x}<br>Win_Pct=%{y}<extra></extra>\", \"legendgroup\": \"\", \"line\": {\"color\": \"#636efa\", \"dash\": \"solid\"}, \"mode\": \"lines\", \"name\": \"\", \"orientation\": \"v\", \"showlegend\": false, \"type\": \"scatter\", \"x\": [\"pt1\", \"pt2\", \"pt3\", \"pt4\", \"pt5\", \"pt6\", \"pt7\", \"pt8\", \"pt9\", \"pt10\", \"pt11\", \"pt12\", \"pt13\", \"pt14\", \"pt15\", \"pt16\", \"pt17\", \"pt18\", \"pt19\", \"pt20\"], \"xaxis\": \"x\", \"y\": [0.5789473684210527, 0.6388888888888888, 0.6111111111111112, 0.6875, 0.696969696969697, 0.6875, 0.6875, 0.6875, 0.6774193548387096, 0.7142857142857143, 0.7241379310344828, 0.7407407407407407, 0.8, 0.8235294117647058, 0.7142857142857143, 0.6923076923076923, 0.6363636363636364, 0.6666666666666666, 0.5555555555555556, 0.6], \"yaxis\": \"y\"}],                        {\"legend\": {\"tracegroupgap\": 0}, \"template\": {\"data\": {\"bar\": [{\"error_x\": {\"color\": \"#2a3f5f\"}, \"error_y\": {\"color\": \"#2a3f5f\"}, \"marker\": {\"line\": {\"color\": \"#E5ECF6\", \"width\": 0.5}}, \"type\": \"bar\"}], \"barpolar\": [{\"marker\": {\"line\": {\"color\": \"#E5ECF6\", \"width\": 0.5}}, \"type\": \"barpolar\"}], \"carpet\": [{\"aaxis\": {\"endlinecolor\": \"#2a3f5f\", \"gridcolor\": \"white\", \"linecolor\": \"white\", \"minorgridcolor\": \"white\", \"startlinecolor\": \"#2a3f5f\"}, \"baxis\": {\"endlinecolor\": \"#2a3f5f\", \"gridcolor\": \"white\", \"linecolor\": \"white\", \"minorgridcolor\": \"white\", \"startlinecolor\": \"#2a3f5f\"}, \"type\": \"carpet\"}], \"choropleth\": [{\"colorbar\": {\"outlinewidth\": 0, \"ticks\": \"\"}, \"type\": \"choropleth\"}], \"contour\": [{\"colorbar\": {\"outlinewidth\": 0, \"ticks\": \"\"}, \"colorscale\": [[0.0, \"#0d0887\"], [0.1111111111111111, \"#46039f\"], [0.2222222222222222, \"#7201a8\"], [0.3333333333333333, \"#9c179e\"], [0.4444444444444444, \"#bd3786\"], [0.5555555555555556, \"#d8576b\"], [0.6666666666666666, \"#ed7953\"], [0.7777777777777778, \"#fb9f3a\"], [0.8888888888888888, \"#fdca26\"], [1.0, \"#f0f921\"]], \"type\": \"contour\"}], \"contourcarpet\": [{\"colorbar\": {\"outlinewidth\": 0, \"ticks\": \"\"}, \"type\": \"contourcarpet\"}], \"heatmap\": [{\"colorbar\": {\"outlinewidth\": 0, \"ticks\": \"\"}, \"colorscale\": [[0.0, \"#0d0887\"], [0.1111111111111111, \"#46039f\"], [0.2222222222222222, \"#7201a8\"], [0.3333333333333333, \"#9c179e\"], [0.4444444444444444, \"#bd3786\"], [0.5555555555555556, \"#d8576b\"], [0.6666666666666666, \"#ed7953\"], [0.7777777777777778, \"#fb9f3a\"], [0.8888888888888888, \"#fdca26\"], [1.0, \"#f0f921\"]], \"type\": \"heatmap\"}], \"heatmapgl\": [{\"colorbar\": {\"outlinewidth\": 0, \"ticks\": \"\"}, \"colorscale\": [[0.0, \"#0d0887\"], [0.1111111111111111, \"#46039f\"], [0.2222222222222222, \"#7201a8\"], [0.3333333333333333, \"#9c179e\"], [0.4444444444444444, \"#bd3786\"], [0.5555555555555556, \"#d8576b\"], [0.6666666666666666, \"#ed7953\"], [0.7777777777777778, \"#fb9f3a\"], [0.8888888888888888, \"#fdca26\"], [1.0, \"#f0f921\"]], \"type\": \"heatmapgl\"}], \"histogram\": [{\"marker\": {\"colorbar\": {\"outlinewidth\": 0, \"ticks\": \"\"}}, \"type\": \"histogram\"}], \"histogram2d\": [{\"colorbar\": {\"outlinewidth\": 0, \"ticks\": \"\"}, \"colorscale\": [[0.0, \"#0d0887\"], [0.1111111111111111, \"#46039f\"], [0.2222222222222222, \"#7201a8\"], [0.3333333333333333, \"#9c179e\"], [0.4444444444444444, \"#bd3786\"], [0.5555555555555556, \"#d8576b\"], [0.6666666666666666, \"#ed7953\"], [0.7777777777777778, \"#fb9f3a\"], [0.8888888888888888, \"#fdca26\"], [1.0, \"#f0f921\"]], \"type\": \"histogram2d\"}], \"histogram2dcontour\": [{\"colorbar\": {\"outlinewidth\": 0, \"ticks\": \"\"}, \"colorscale\": [[0.0, \"#0d0887\"], [0.1111111111111111, \"#46039f\"], [0.2222222222222222, \"#7201a8\"], [0.3333333333333333, \"#9c179e\"], [0.4444444444444444, \"#bd3786\"], [0.5555555555555556, \"#d8576b\"], [0.6666666666666666, \"#ed7953\"], [0.7777777777777778, \"#fb9f3a\"], [0.8888888888888888, \"#fdca26\"], [1.0, \"#f0f921\"]], \"type\": \"histogram2dcontour\"}], \"mesh3d\": [{\"colorbar\": {\"outlinewidth\": 0, \"ticks\": \"\"}, \"type\": \"mesh3d\"}], \"parcoords\": [{\"line\": {\"colorbar\": {\"outlinewidth\": 0, \"ticks\": \"\"}}, \"type\": \"parcoords\"}], \"pie\": [{\"automargin\": true, \"type\": \"pie\"}], \"scatter\": [{\"marker\": {\"colorbar\": {\"outlinewidth\": 0, \"ticks\": \"\"}}, \"type\": \"scatter\"}], \"scatter3d\": [{\"line\": {\"colorbar\": {\"outlinewidth\": 0, \"ticks\": \"\"}}, \"marker\": {\"colorbar\": {\"outlinewidth\": 0, \"ticks\": \"\"}}, \"type\": \"scatter3d\"}], \"scattercarpet\": [{\"marker\": {\"colorbar\": {\"outlinewidth\": 0, \"ticks\": \"\"}}, \"type\": \"scattercarpet\"}], \"scattergeo\": [{\"marker\": {\"colorbar\": {\"outlinewidth\": 0, \"ticks\": \"\"}}, \"type\": \"scattergeo\"}], \"scattergl\": [{\"marker\": {\"colorbar\": {\"outlinewidth\": 0, \"ticks\": \"\"}}, \"type\": \"scattergl\"}], \"scattermapbox\": [{\"marker\": {\"colorbar\": {\"outlinewidth\": 0, \"ticks\": \"\"}}, \"type\": \"scattermapbox\"}], \"scatterpolar\": [{\"marker\": {\"colorbar\": {\"outlinewidth\": 0, \"ticks\": \"\"}}, \"type\": \"scatterpolar\"}], \"scatterpolargl\": [{\"marker\": {\"colorbar\": {\"outlinewidth\": 0, \"ticks\": \"\"}}, \"type\": \"scatterpolargl\"}], \"scatterternary\": [{\"marker\": {\"colorbar\": {\"outlinewidth\": 0, \"ticks\": \"\"}}, \"type\": \"scatterternary\"}], \"surface\": [{\"colorbar\": {\"outlinewidth\": 0, \"ticks\": \"\"}, \"colorscale\": [[0.0, \"#0d0887\"], [0.1111111111111111, \"#46039f\"], [0.2222222222222222, \"#7201a8\"], [0.3333333333333333, \"#9c179e\"], [0.4444444444444444, \"#bd3786\"], [0.5555555555555556, \"#d8576b\"], [0.6666666666666666, \"#ed7953\"], [0.7777777777777778, \"#fb9f3a\"], [0.8888888888888888, \"#fdca26\"], [1.0, \"#f0f921\"]], \"type\": \"surface\"}], \"table\": [{\"cells\": {\"fill\": {\"color\": \"#EBF0F8\"}, \"line\": {\"color\": \"white\"}}, \"header\": {\"fill\": {\"color\": \"#C8D4E3\"}, \"line\": {\"color\": \"white\"}}, \"type\": \"table\"}]}, \"layout\": {\"annotationdefaults\": {\"arrowcolor\": \"#2a3f5f\", \"arrowhead\": 0, \"arrowwidth\": 1}, \"coloraxis\": {\"colorbar\": {\"outlinewidth\": 0, \"ticks\": \"\"}}, \"colorscale\": {\"diverging\": [[0, \"#8e0152\"], [0.1, \"#c51b7d\"], [0.2, \"#de77ae\"], [0.3, \"#f1b6da\"], [0.4, \"#fde0ef\"], [0.5, \"#f7f7f7\"], [0.6, \"#e6f5d0\"], [0.7, \"#b8e186\"], [0.8, \"#7fbc41\"], [0.9, \"#4d9221\"], [1, \"#276419\"]], \"sequential\": [[0.0, \"#0d0887\"], [0.1111111111111111, \"#46039f\"], [0.2222222222222222, \"#7201a8\"], [0.3333333333333333, \"#9c179e\"], [0.4444444444444444, \"#bd3786\"], [0.5555555555555556, \"#d8576b\"], [0.6666666666666666, \"#ed7953\"], [0.7777777777777778, \"#fb9f3a\"], [0.8888888888888888, \"#fdca26\"], [1.0, \"#f0f921\"]], \"sequentialminus\": [[0.0, \"#0d0887\"], [0.1111111111111111, \"#46039f\"], [0.2222222222222222, \"#7201a8\"], [0.3333333333333333, \"#9c179e\"], [0.4444444444444444, \"#bd3786\"], [0.5555555555555556, \"#d8576b\"], [0.6666666666666666, \"#ed7953\"], [0.7777777777777778, \"#fb9f3a\"], [0.8888888888888888, \"#fdca26\"], [1.0, \"#f0f921\"]]}, \"colorway\": [\"#636efa\", \"#EF553B\", \"#00cc96\", \"#ab63fa\", \"#FFA15A\", \"#19d3f3\", \"#FF6692\", \"#B6E880\", \"#FF97FF\", \"#FECB52\"], \"font\": {\"color\": \"#2a3f5f\"}, \"geo\": {\"bgcolor\": \"white\", \"lakecolor\": \"white\", \"landcolor\": \"#E5ECF6\", \"showlakes\": true, \"showland\": true, \"subunitcolor\": \"white\"}, \"hoverlabel\": {\"align\": \"left\"}, \"hovermode\": \"closest\", \"mapbox\": {\"style\": \"light\"}, \"paper_bgcolor\": \"white\", \"plot_bgcolor\": \"#E5ECF6\", \"polar\": {\"angularaxis\": {\"gridcolor\": \"white\", \"linecolor\": \"white\", \"ticks\": \"\"}, \"bgcolor\": \"#E5ECF6\", \"radialaxis\": {\"gridcolor\": \"white\", \"linecolor\": \"white\", \"ticks\": \"\"}}, \"scene\": {\"xaxis\": {\"backgroundcolor\": \"#E5ECF6\", \"gridcolor\": \"white\", \"gridwidth\": 2, \"linecolor\": \"white\", \"showbackground\": true, \"ticks\": \"\", \"zerolinecolor\": \"white\"}, \"yaxis\": {\"backgroundcolor\": \"#E5ECF6\", \"gridcolor\": \"white\", \"gridwidth\": 2, \"linecolor\": \"white\", \"showbackground\": true, \"ticks\": \"\", \"zerolinecolor\": \"white\"}, \"zaxis\": {\"backgroundcolor\": \"#E5ECF6\", \"gridcolor\": \"white\", \"gridwidth\": 2, \"linecolor\": \"white\", \"showbackground\": true, \"ticks\": \"\", \"zerolinecolor\": \"white\"}}, \"shapedefaults\": {\"line\": {\"color\": \"#2a3f5f\"}}, \"ternary\": {\"aaxis\": {\"gridcolor\": \"white\", \"linecolor\": \"white\", \"ticks\": \"\"}, \"baxis\": {\"gridcolor\": \"white\", \"linecolor\": \"white\", \"ticks\": \"\"}, \"bgcolor\": \"#E5ECF6\", \"caxis\": {\"gridcolor\": \"white\", \"linecolor\": \"white\", \"ticks\": \"\"}}, \"title\": {\"x\": 0.05}, \"xaxis\": {\"automargin\": true, \"gridcolor\": \"white\", \"linecolor\": \"white\", \"ticks\": \"\", \"title\": {\"standoff\": 15}, \"zerolinecolor\": \"white\", \"zerolinewidth\": 2}, \"yaxis\": {\"automargin\": true, \"gridcolor\": \"white\", \"linecolor\": \"white\", \"ticks\": \"\", \"title\": {\"standoff\": 15}, \"zerolinecolor\": \"white\", \"zerolinewidth\": 2}}}, \"title\": {\"text\": \"Win % by Margin of Score\"}, \"xaxis\": {\"anchor\": \"y\", \"domain\": [0.0, 1.0], \"title\": {\"text\": \"Margin_Score\"}}, \"yaxis\": {\"anchor\": \"x\", \"domain\": [0.0, 1.0], \"title\": {\"text\": \"Win_Pct\"}}},                        {\"responsive\": true}                    ).then(function(){\n",
       "                            \n",
       "var gd = document.getElementById('9180fa6b-b464-44f0-b7cf-23899799f668');\n",
       "var x = new MutationObserver(function (mutations, observer) {{\n",
       "        var display = window.getComputedStyle(gd).display;\n",
       "        if (!display || display === 'none') {{\n",
       "            console.log([gd, 'removed!']);\n",
       "            Plotly.purge(gd);\n",
       "            observer.disconnect();\n",
       "        }}\n",
       "}});\n",
       "\n",
       "// Listen for the removal of the full notebook cells\n",
       "var notebookContainer = gd.closest('#notebook-container');\n",
       "if (notebookContainer) {{\n",
       "    x.observe(notebookContainer, {childList: true});\n",
       "}}\n",
       "\n",
       "// Listen for the clearing of the current output cell\n",
       "var outputEl = gd.closest('.output');\n",
       "if (outputEl) {{\n",
       "    x.observe(outputEl, {childList: true});\n",
       "}}\n",
       "\n",
       "                        })                };                });            </script>        </div>"
      ]
     },
     "metadata": {},
     "output_type": "display_data"
    }
   ],
   "source": [
    "import plotly.express as px\n",
    "\n",
    "fig = px.line(graph_df, x=\"Margin_Score\", y=\"Win_Pct\", title='Win % by Margin of Score')\n",
    "fig.show()"
   ]
  },
  {
   "cell_type": "markdown",
   "metadata": {},
   "source": [
    "O Miami Heat, apesar do seu excelente time e ótimas performances nos ultimos jogos dos Playoffs, parece não lidar de uma forma tão positiva com vantagens acima de 14 pts. Quando o Heat chegou a abrir até 18pts em uma partida, teve algo como 66% de aproveitamento, não muito distante dos 57,5% de média geral. Para efeito de comparação, todos os times presentes nas finais de conferencia possuem padrões diferentes:"
   ]
  },
  {
   "cell_type": "markdown",
   "metadata": {},
   "source": [
    "![imagem](graph.jpg)"
   ]
  },
  {
   "cell_type": "markdown",
   "metadata": {},
   "source": [
    "Por último, sempre temos a opção de exportar um CSV para futuras análises"
   ]
  },
  {
   "cell_type": "code",
   "execution_count": 189,
   "metadata": {},
   "outputs": [],
   "source": [
    "games_merged.to_csv('games_merged.csv',index=False)"
   ]
  }
 ],
 "metadata": {
  "kernelspec": {
   "display_name": "Python 3",
   "language": "python",
   "name": "python3"
  },
  "language_info": {
   "codemirror_mode": {
    "name": "ipython",
    "version": 3
   },
   "file_extension": ".py",
   "mimetype": "text/x-python",
   "name": "python",
   "nbconvert_exporter": "python",
   "pygments_lexer": "ipython3",
   "version": "3.7.4"
  }
 },
 "nbformat": 4,
 "nbformat_minor": 2
}
